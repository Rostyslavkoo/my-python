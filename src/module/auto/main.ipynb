{
 "cells": [
  {
   "cell_type": "code",
   "execution_count": 2,
   "metadata": {},
   "outputs": [],
   "source": [
    "import pandas as pd\n",
    "import matplotlib.pyplot as plt\n",
    "from ipywidgets import widgets"
   ]
  },
  {
   "cell_type": "code",
   "execution_count": 3,
   "metadata": {},
   "outputs": [
    {
     "data": {
      "text/html": [
       "<div>\n",
       "<style scoped>\n",
       "    .dataframe tbody tr th:only-of-type {\n",
       "        vertical-align: middle;\n",
       "    }\n",
       "\n",
       "    .dataframe tbody tr th {\n",
       "        vertical-align: top;\n",
       "    }\n",
       "\n",
       "    .dataframe thead th {\n",
       "        text-align: right;\n",
       "    }\n",
       "</style>\n",
       "<table border=\"1\" class=\"dataframe\">\n",
       "  <thead>\n",
       "    <tr style=\"text-align: right;\">\n",
       "      <th></th>\n",
       "      <th>brigade_id</th>\n",
       "      <th>brigade_name</th>\n",
       "      <th>tariff_per_hour</th>\n",
       "      <th>employee_id</th>\n",
       "      <th>last_name</th>\n",
       "      <th>date</th>\n",
       "      <th>spent_hours</th>\n",
       "      <th>car_brand</th>\n",
       "    </tr>\n",
       "  </thead>\n",
       "  <tbody>\n",
       "    <tr>\n",
       "      <th>0</th>\n",
       "      <td>1</td>\n",
       "      <td>Бригада 1</td>\n",
       "      <td>20</td>\n",
       "      <td>101</td>\n",
       "      <td>Іванов</td>\n",
       "      <td>2024-01-01</td>\n",
       "      <td>2</td>\n",
       "      <td>Toyota</td>\n",
       "    </tr>\n",
       "    <tr>\n",
       "      <th>1</th>\n",
       "      <td>1</td>\n",
       "      <td>Бригада 1</td>\n",
       "      <td>20</td>\n",
       "      <td>101</td>\n",
       "      <td>Іванов</td>\n",
       "      <td>2024-01-03</td>\n",
       "      <td>4</td>\n",
       "      <td>Chevrolet</td>\n",
       "    </tr>\n",
       "    <tr>\n",
       "      <th>2</th>\n",
       "      <td>1</td>\n",
       "      <td>Бригада 1</td>\n",
       "      <td>20</td>\n",
       "      <td>102</td>\n",
       "      <td>Петров</td>\n",
       "      <td>2024-01-02</td>\n",
       "      <td>3</td>\n",
       "      <td>Ford</td>\n",
       "    </tr>\n",
       "    <tr>\n",
       "      <th>3</th>\n",
       "      <td>2</td>\n",
       "      <td>Бригада 2</td>\n",
       "      <td>25</td>\n",
       "      <td>103</td>\n",
       "      <td>Сидоров</td>\n",
       "      <td>2024-01-03</td>\n",
       "      <td>4</td>\n",
       "      <td>Chevrolet</td>\n",
       "    </tr>\n",
       "    <tr>\n",
       "      <th>4</th>\n",
       "      <td>2</td>\n",
       "      <td>Бригада 2</td>\n",
       "      <td>25</td>\n",
       "      <td>104</td>\n",
       "      <td>Коваленко</td>\n",
       "      <td>2024-01-01</td>\n",
       "      <td>2</td>\n",
       "      <td>Toyota</td>\n",
       "    </tr>\n",
       "    <tr>\n",
       "      <th>5</th>\n",
       "      <td>3</td>\n",
       "      <td>Бригада 3</td>\n",
       "      <td>18</td>\n",
       "      <td>105</td>\n",
       "      <td>Сергієнко</td>\n",
       "      <td>2024-01-02</td>\n",
       "      <td>3</td>\n",
       "      <td>Ford</td>\n",
       "    </tr>\n",
       "  </tbody>\n",
       "</table>\n",
       "</div>"
      ],
      "text/plain": [
       "   brigade_id brigade_name  tariff_per_hour  employee_id  last_name  \\\n",
       "0           1    Бригада 1               20          101     Іванов   \n",
       "1           1    Бригада 1               20          101     Іванов   \n",
       "2           1    Бригада 1               20          102     Петров   \n",
       "3           2    Бригада 2               25          103    Сидоров   \n",
       "4           2    Бригада 2               25          104  Коваленко   \n",
       "5           3    Бригада 3               18          105  Сергієнко   \n",
       "\n",
       "         date  spent_hours  car_brand  \n",
       "0  2024-01-01            2     Toyota  \n",
       "1  2024-01-03            4  Chevrolet  \n",
       "2  2024-01-02            3       Ford  \n",
       "3  2024-01-03            4  Chevrolet  \n",
       "4  2024-01-01            2     Toyota  \n",
       "5  2024-01-02            3       Ford  "
      ]
     },
     "execution_count": 3,
     "metadata": {},
     "output_type": "execute_result"
    }
   ],
   "source": [
    "brigades = pd.read_csv('brigades.csv')\n",
    "workers = pd.read_csv('workers.csv')\n",
    "services1 = pd.read_csv('services1.csv')\n",
    "services2 = pd.read_csv('services2.csv')\n",
    "\n",
    "services = pd.concat([services1,services2],ignore_index=True)\n",
    "merged_data = pd.merge(brigades,workers, on='brigade_id')\n",
    "merged_data = pd.merge(merged_data,services, on='employee_id')\n",
    "merged_data\n"
   ]
  },
  {
   "cell_type": "code",
   "execution_count": 4,
   "metadata": {},
   "outputs": [
    {
     "data": {
      "text/html": [
       "<div>\n",
       "<style scoped>\n",
       "    .dataframe tbody tr th:only-of-type {\n",
       "        vertical-align: middle;\n",
       "    }\n",
       "\n",
       "    .dataframe tbody tr th {\n",
       "        vertical-align: top;\n",
       "    }\n",
       "\n",
       "    .dataframe thead th {\n",
       "        text-align: right;\n",
       "    }\n",
       "</style>\n",
       "<table border=\"1\" class=\"dataframe\">\n",
       "  <thead>\n",
       "    <tr style=\"text-align: right;\">\n",
       "      <th></th>\n",
       "      <th>brigade_name</th>\n",
       "      <th>total</th>\n",
       "    </tr>\n",
       "  </thead>\n",
       "  <tbody>\n",
       "    <tr>\n",
       "      <th>0</th>\n",
       "      <td>Бригада 1</td>\n",
       "      <td>180</td>\n",
       "    </tr>\n",
       "    <tr>\n",
       "      <th>1</th>\n",
       "      <td>Бригада 2</td>\n",
       "      <td>150</td>\n",
       "    </tr>\n",
       "    <tr>\n",
       "      <th>2</th>\n",
       "      <td>Бригада 3</td>\n",
       "      <td>54</td>\n",
       "    </tr>\n",
       "  </tbody>\n",
       "</table>\n",
       "</div>"
      ],
      "text/plain": [
       "  brigade_name  total\n",
       "0    Бригада 1    180\n",
       "1    Бригада 2    150\n",
       "2    Бригада 3     54"
      ]
     },
     "execution_count": 4,
     "metadata": {},
     "output_type": "execute_result"
    }
   ],
   "source": [
    "#(а) таблицю, в якiй для кожної бригади пораховано заробленi кошти за весь час;\n",
    "merged_data['total'] = merged_data['spent_hours'] * merged_data['tariff_per_hour']\n",
    "brigade_total = merged_data.groupby('brigade_name')['total'].sum().reset_index()\n",
    "brigade_total\n"
   ]
  },
  {
   "cell_type": "code",
   "execution_count": 5,
   "metadata": {},
   "outputs": [
    {
     "data": {
      "image/png": "[encoded data removed]",
      "text/plain": [
       "<Figure size 640x480 with 1 Axes>"
      ]
     },
     "metadata": {},
     "output_type": "display_data"
    }
   ],
   "source": [
    "# (б) Діаграма зароблених коштів для кожної бригади\n",
    "plt.bar(brigade_total['brigade_name'],brigade_total['total'])\n",
    "plt.title('Зароблені кошти для кожної бригади')\n",
    "plt.ylabel('Зароблені кошти')\n",
    "plt.show()\n"
   ]
  },
  {
   "cell_type": "code",
   "execution_count": 6,
   "metadata": {},
   "outputs": [
    {
     "data": {
      "application/vnd.jupyter.widget-view+json": {
       "model_id": "ceb48a1accb94acfabdfb735e41da980",
       "version_major": 2,
       "version_minor": 0
      },
      "text/plain": [
       "DatePicker(value=Timestamp('2024-01-01 00:00:00'), description='Початкова дата', step=1)"
      ]
     },
     "metadata": {},
     "output_type": "display_data"
    },
    {
     "data": {
      "application/vnd.jupyter.widget-view+json": {
       "model_id": "9afd9d66042e4684a0c8fde5355d12db",
       "version_major": 2,
       "version_minor": 0
      },
      "text/plain": [
       "DatePicker(value=Timestamp('2024-01-03 00:00:00'), description='Кінцева дата', step=1)"
      ]
     },
     "metadata": {},
     "output_type": "display_data"
    }
   ],
   "source": [
    "start_date_widget = widgets.DatePicker(description='Початкова дата',value=pd.to_datetime(merged_data['date']).min())\n",
    "end_date_widget = widgets.DatePicker(description='Кінцева дата',value=pd.to_datetime(merged_data['date']).max())\n",
    "\n",
    "display(start_date_widget)\n",
    "display(end_date_widget)"
   ]
  },
  {
   "cell_type": "code",
   "execution_count": 9,
   "metadata": {},
   "outputs": [
    {
     "name": "stdout",
     "output_type": "stream",
     "text": [
      "2024-01-01 00:00:00\n",
      "2024-01-03 00:00:00\n"
     ]
    },
    {
     "data": {
      "text/html": [
       "<div>\n",
       "<style scoped>\n",
       "    .dataframe tbody tr th:only-of-type {\n",
       "        vertical-align: middle;\n",
       "    }\n",
       "\n",
       "    .dataframe tbody tr th {\n",
       "        vertical-align: top;\n",
       "    }\n",
       "\n",
       "    .dataframe thead th {\n",
       "        text-align: right;\n",
       "    }\n",
       "</style>\n",
       "<table border=\"1\" class=\"dataframe\">\n",
       "  <thead>\n",
       "    <tr style=\"text-align: right;\">\n",
       "      <th></th>\n",
       "      <th>last_name</th>\n",
       "      <th>total</th>\n",
       "    </tr>\n",
       "  </thead>\n",
       "  <tbody>\n",
       "    <tr>\n",
       "      <th>0</th>\n",
       "      <td>Іванов</td>\n",
       "      <td>120</td>\n",
       "    </tr>\n",
       "    <tr>\n",
       "      <th>1</th>\n",
       "      <td>Коваленко</td>\n",
       "      <td>50</td>\n",
       "    </tr>\n",
       "    <tr>\n",
       "      <th>2</th>\n",
       "      <td>Петров</td>\n",
       "      <td>60</td>\n",
       "    </tr>\n",
       "    <tr>\n",
       "      <th>3</th>\n",
       "      <td>Сергієнко</td>\n",
       "      <td>54</td>\n",
       "    </tr>\n",
       "    <tr>\n",
       "      <th>4</th>\n",
       "      <td>Сидоров</td>\n",
       "      <td>100</td>\n",
       "    </tr>\n",
       "  </tbody>\n",
       "</table>\n",
       "</div>"
      ],
      "text/plain": [
       "   last_name  total\n",
       "0     Іванов    120\n",
       "1  Коваленко     50\n",
       "2     Петров     60\n",
       "3  Сергієнко     54\n",
       "4    Сидоров    100"
      ]
     },
     "execution_count": 9,
     "metadata": {},
     "output_type": "execute_result"
    }
   ],
   "source": [
    "# (в) Таблиця для кожного працівника з заробленими коштами за період часу\n",
    "print(start_date_widget.value)\n",
    "print(end_date_widget.value)\n",
    "\n",
    "selected_data = merged_data[(pd.to_datetime(merged_data['date']) >= pd.to_datetime(start_date_widget.value)) & (pd.to_datetime(merged_data['date']) <= pd.to_datetime(end_date_widget.value))]\n",
    "\n",
    "worker_total = selected_data.groupby(['last_name'])['total'].sum().reset_index()\n",
    "worker_total\n"
   ]
  },
  {
   "cell_type": "code",
   "execution_count": 8,
   "metadata": {},
   "outputs": [
    {
     "data": {
      "text/html": [
       "<div>\n",
       "<style scoped>\n",
       "    .dataframe tbody tr th:only-of-type {\n",
       "        vertical-align: middle;\n",
       "    }\n",
       "\n",
       "    .dataframe tbody tr th {\n",
       "        vertical-align: top;\n",
       "    }\n",
       "\n",
       "    .dataframe thead th {\n",
       "        text-align: right;\n",
       "    }\n",
       "</style>\n",
       "<table border=\"1\" class=\"dataframe\">\n",
       "  <thead>\n",
       "    <tr style=\"text-align: right;\">\n",
       "      <th></th>\n",
       "      <th>car_brand</th>\n",
       "      <th>total</th>\n",
       "    </tr>\n",
       "  </thead>\n",
       "  <tbody>\n",
       "    <tr>\n",
       "      <th>2</th>\n",
       "      <td>Toyota</td>\n",
       "      <td>90</td>\n",
       "    </tr>\n",
       "    <tr>\n",
       "      <th>1</th>\n",
       "      <td>Ford</td>\n",
       "      <td>114</td>\n",
       "    </tr>\n",
       "    <tr>\n",
       "      <th>0</th>\n",
       "      <td>Chevrolet</td>\n",
       "      <td>180</td>\n",
       "    </tr>\n",
       "  </tbody>\n",
       "</table>\n",
       "</div>"
      ],
      "text/plain": [
       "   car_brand  total\n",
       "2     Toyota     90\n",
       "1       Ford    114\n",
       "0  Chevrolet    180"
      ]
     },
     "execution_count": 8,
     "metadata": {},
     "output_type": "execute_result"
    }
   ],
   "source": [
    "# (г) таблицю, в якiй подано заробленi кошти на кожнiй марцi авто- мобiлiв, впорядкованi за цiєю сумою.\n",
    "erned_by_car = selected_data.groupby(['car_brand'])['total'].sum().reset_index()\n",
    "erned_by_car = erned_by_car.sort_values('total',ascending=True)\n",
    "erned_by_car"
   ]
  }
 ],
 "metadata": {
  "kernelspec": {
   "display_name": "Python 3",
   "language": "python",
   "name": "python3"
  },
  "language_info": {
   "codemirror_mode": {
    "name": "ipython",
    "version": 3
   },
   "file_extension": ".py",
   "mimetype": "text/x-python",
   "name": "python",
   "nbconvert_exporter": "python",
   "pygments_lexer": "ipython3",
   "version": "3.10.8"
  }
 },
 "nbformat": 4,
 "nbformat_minor": 2
}
