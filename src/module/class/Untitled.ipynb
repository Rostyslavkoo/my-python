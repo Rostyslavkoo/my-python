{
 "cells": [
  {
   "cell_type": "code",
   "execution_count": 1,
   "id": "5a588270-5fda-4b88-a99a-d50b5a9942ef",
   "metadata": {
    "tags": []
   },
   "outputs": [],
   "source": [
    "import pandas as pd\n",
    "import numpy as np\n",
    "import matplotlib.pyplot as plt\n",
    "import ipywidgets\n",
    "%matplotlib widget"
   ]
  },
  {
   "cell_type": "code",
   "execution_count": 45,
   "id": "eb472f86-eb0f-43cb-9b2e-f1153fa881e6",
   "metadata": {
    "tags": []
   },
   "outputs": [],
   "source": [
    "class Worker:\n",
    "    def __init__(self, worker_id, surname, brig_id):\n",
    "        self.worker_id = worker_id\n",
    "        self.surname = surname\n",
    "        self.brig_id = brig_id\n",
    "    \n",
    "    @property\n",
    "    def worker_id(self):\n",
    "        return self._worker_id\n",
    "    @worker_id.setter\n",
    "    def worker_id(self, x):\n",
    "        self._worker_id = x\n",
    "        \n",
    "    @property\n",
    "    def surname(self):\n",
    "        return self._surname\n",
    "    @surname.setter\n",
    "    def surname(self, x):\n",
    "        self._surname = x\n",
    "        \n",
    "    @property\n",
    "    def brig_id(self):\n",
    "        return self._brig_id\n",
    "    @brig_id.setter\n",
    "    def brig_id(self, x):\n",
    "        self._brig_id = x"
   ]
  },
  {
   "cell_type": "code",
   "execution_count": 47,
   "id": "71197582-5655-4b8f-a7b9-9de41f5af0aa",
   "metadata": {
    "tags": []
   },
   "outputs": [],
   "source": [
    "class Brigade:\n",
    "    def __init__(self, brgg_id, brig_name, salarry):\n",
    "        self.brgg_id = brgg_id\n",
    "        self.brig_name = brig_name\n",
    "        self.salarry = salarry\n",
    "    \n",
    "    @property\n",
    "    def brgg_id(self):\n",
    "        return self._brgg_id\n",
    "    @brgg_id.setter\n",
    "    def brgg_id(self, x):\n",
    "        self._brgg_id = x\n",
    "        \n",
    "    @property\n",
    "    def brig_name(self):\n",
    "        return self._brig_name\n",
    "    @brig_name.setter\n",
    "    def brig_name(self, x):\n",
    "        self._brig_name = x\n",
    "        \n",
    "    @property\n",
    "    def salarry(self):\n",
    "        return self._salarry\n",
    "    @salarry.setter\n",
    "    def salarry(self, x):\n",
    "        self._salarry = x"
   ]
  },
  {
   "cell_type": "code",
   "execution_count": 49,
   "id": "52228332-f56d-4a51-9e78-69fadc8c24da",
   "metadata": {
    "tags": []
   },
   "outputs": [],
   "source": [
    "class Nariad:\n",
    "    def __init__(self, date, w_id, time, auto):\n",
    "        self.date = date\n",
    "        self.w_id = w_id\n",
    "        self.time = time\n",
    "        self.auto = auto\n",
    "    \n",
    "    @property\n",
    "    def date(self):\n",
    "        return self._date\n",
    "    @date.setter\n",
    "    def date(self, x):\n",
    "        self._date = x\n",
    "        \n",
    "    @property\n",
    "    def w_id(self):\n",
    "        return self._w_id\n",
    "    @w_id.setter\n",
    "    def w_id(self, x):\n",
    "        self._w_id = x\n",
    "        \n",
    "    @property\n",
    "    def time(self):\n",
    "        return self._time\n",
    "    @time.setter\n",
    "    def time(self, x):\n",
    "        self._time = x\n",
    "        \n",
    "    @property\n",
    "    def auto(self):\n",
    "        return self._auto\n",
    "    @auto.setter\n",
    "    def auto(self, x):\n",
    "        self._auto = x"
   ]
  },
  {
   "cell_type": "code",
   "execution_count": 2,
   "id": "530f489c-4d95-4660-80fd-39467533036c",
   "metadata": {
    "tags": []
   },
   "outputs": [],
   "source": [
    "workers = pd.read_csv('workers.csv')"
   ]
  },
  {
   "cell_type": "code",
   "execution_count": 3,
   "id": "ef1cb423-e094-44ca-85b3-3c46ba294670",
   "metadata": {
    "tags": []
   },
   "outputs": [
    {
     "data": {
      "text/html": [
       "<div>\n",
       "<style scoped>\n",
       "    .dataframe tbody tr th:only-of-type {\n",
       "        vertical-align: middle;\n",
       "    }\n",
       "\n",
       "    .dataframe tbody tr th {\n",
       "        vertical-align: top;\n",
       "    }\n",
       "\n",
       "    .dataframe thead th {\n",
       "        text-align: right;\n",
       "    }\n",
       "</style>\n",
       "<table border=\"1\" class=\"dataframe\">\n",
       "  <thead>\n",
       "    <tr style=\"text-align: right;\">\n",
       "      <th></th>\n",
       "      <th>worker_id</th>\n",
       "      <th>surname</th>\n",
       "      <th>brig_id</th>\n",
       "    </tr>\n",
       "  </thead>\n",
       "  <tbody>\n",
       "    <tr>\n",
       "      <th>0</th>\n",
       "      <td>1</td>\n",
       "      <td>Romantsov</td>\n",
       "      <td>1</td>\n",
       "    </tr>\n",
       "    <tr>\n",
       "      <th>1</th>\n",
       "      <td>2</td>\n",
       "      <td>Marshenko</td>\n",
       "      <td>3</td>\n",
       "    </tr>\n",
       "    <tr>\n",
       "      <th>2</th>\n",
       "      <td>3</td>\n",
       "      <td>Kovalov</td>\n",
       "      <td>3</td>\n",
       "    </tr>\n",
       "    <tr>\n",
       "      <th>3</th>\n",
       "      <td>4</td>\n",
       "      <td>Ivanov</td>\n",
       "      <td>2</td>\n",
       "    </tr>\n",
       "    <tr>\n",
       "      <th>4</th>\n",
       "      <td>5</td>\n",
       "      <td>Homenko</td>\n",
       "      <td>2</td>\n",
       "    </tr>\n",
       "  </tbody>\n",
       "</table>\n",
       "</div>"
      ],
      "text/plain": [
       "   worker_id    surname  brig_id\n",
       "0          1  Romantsov        1\n",
       "1          2  Marshenko        3\n",
       "2          3    Kovalov        3\n",
       "3          4     Ivanov        2\n",
       "4          5    Homenko        2"
      ]
     },
     "execution_count": 3,
     "metadata": {},
     "output_type": "execute_result"
    }
   ],
   "source": [
    "workers"
   ]
  },
  {
   "cell_type": "code",
   "execution_count": 4,
   "id": "a26bd0cb-7864-4847-bec0-627970d96a1c",
   "metadata": {
    "tags": []
   },
   "outputs": [],
   "source": [
    "brigades = pd.read_csv('brigades.csv')"
   ]
  },
  {
   "cell_type": "code",
   "execution_count": 5,
   "id": "6c51c141-7a94-46dc-98bf-129e1de7e010",
   "metadata": {
    "tags": []
   },
   "outputs": [
    {
     "data": {
      "text/html": [
       "<div>\n",
       "<style scoped>\n",
       "    .dataframe tbody tr th:only-of-type {\n",
       "        vertical-align: middle;\n",
       "    }\n",
       "\n",
       "    .dataframe tbody tr th {\n",
       "        vertical-align: top;\n",
       "    }\n",
       "\n",
       "    .dataframe thead th {\n",
       "        text-align: right;\n",
       "    }\n",
       "</style>\n",
       "<table border=\"1\" class=\"dataframe\">\n",
       "  <thead>\n",
       "    <tr style=\"text-align: right;\">\n",
       "      <th></th>\n",
       "      <th>brgg_id</th>\n",
       "      <th>brig_name</th>\n",
       "      <th>salarry</th>\n",
       "    </tr>\n",
       "  </thead>\n",
       "  <tbody>\n",
       "    <tr>\n",
       "      <th>0</th>\n",
       "      <td>1</td>\n",
       "      <td>QWERTY</td>\n",
       "      <td>65</td>\n",
       "    </tr>\n",
       "    <tr>\n",
       "      <th>1</th>\n",
       "      <td>2</td>\n",
       "      <td>NUMONE</td>\n",
       "      <td>70</td>\n",
       "    </tr>\n",
       "    <tr>\n",
       "      <th>2</th>\n",
       "      <td>3</td>\n",
       "      <td>FUS</td>\n",
       "      <td>90</td>\n",
       "    </tr>\n",
       "  </tbody>\n",
       "</table>\n",
       "</div>"
      ],
      "text/plain": [
       "   brgg_id brig_name  salarry\n",
       "0        1    QWERTY       65\n",
       "1        2    NUMONE       70\n",
       "2        3       FUS       90"
      ]
     },
     "execution_count": 5,
     "metadata": {},
     "output_type": "execute_result"
    }
   ],
   "source": [
    "brigades"
   ]
  },
  {
   "cell_type": "code",
   "execution_count": 6,
   "id": "7fb98b51-af3f-4e84-9ff7-d702c3e458e0",
   "metadata": {
    "tags": []
   },
   "outputs": [],
   "source": [
    "nariads = pd.read_csv('nariads.csv')\n",
    "nar2 = pd.read_csv('nar2.csv')\n",
    "\n",
    "nariads = pd.concat([nariads, nar2], ignore_index = True)"
   ]
  },
  {
   "cell_type": "code",
   "execution_count": 7,
   "id": "b7016b33-dc2c-4e33-9014-e5ef950659df",
   "metadata": {
    "tags": []
   },
   "outputs": [
    {
     "data": {
      "text/html": [
       "<div>\n",
       "<style scoped>\n",
       "    .dataframe tbody tr th:only-of-type {\n",
       "        vertical-align: middle;\n",
       "    }\n",
       "\n",
       "    .dataframe tbody tr th {\n",
       "        vertical-align: top;\n",
       "    }\n",
       "\n",
       "    .dataframe thead th {\n",
       "        text-align: right;\n",
       "    }\n",
       "</style>\n",
       "<table border=\"1\" class=\"dataframe\">\n",
       "  <thead>\n",
       "    <tr style=\"text-align: right;\">\n",
       "      <th></th>\n",
       "      <th>date</th>\n",
       "      <th>w_id</th>\n",
       "      <th>time</th>\n",
       "      <th>auto</th>\n",
       "    </tr>\n",
       "  </thead>\n",
       "  <tbody>\n",
       "    <tr>\n",
       "      <th>0</th>\n",
       "      <td>2023-12-08</td>\n",
       "      <td>1</td>\n",
       "      <td>12</td>\n",
       "      <td>Deu</td>\n",
       "    </tr>\n",
       "    <tr>\n",
       "      <th>1</th>\n",
       "      <td>2023-12-07</td>\n",
       "      <td>3</td>\n",
       "      <td>4</td>\n",
       "      <td>BMW</td>\n",
       "    </tr>\n",
       "    <tr>\n",
       "      <th>2</th>\n",
       "      <td>2023-12-09</td>\n",
       "      <td>1</td>\n",
       "      <td>9</td>\n",
       "      <td>Opel</td>\n",
       "    </tr>\n",
       "    <tr>\n",
       "      <th>3</th>\n",
       "      <td>2023-12-06</td>\n",
       "      <td>2</td>\n",
       "      <td>8</td>\n",
       "      <td>Tesla</td>\n",
       "    </tr>\n",
       "    <tr>\n",
       "      <th>4</th>\n",
       "      <td>2023-12-10</td>\n",
       "      <td>4</td>\n",
       "      <td>7</td>\n",
       "      <td>Audi</td>\n",
       "    </tr>\n",
       "    <tr>\n",
       "      <th>5</th>\n",
       "      <td>2023-12-09</td>\n",
       "      <td>5</td>\n",
       "      <td>6</td>\n",
       "      <td>Jeep</td>\n",
       "    </tr>\n",
       "    <tr>\n",
       "      <th>6</th>\n",
       "      <td>2023-12-10</td>\n",
       "      <td>2</td>\n",
       "      <td>9</td>\n",
       "      <td>Tesla</td>\n",
       "    </tr>\n",
       "    <tr>\n",
       "      <th>7</th>\n",
       "      <td>2023-12-11</td>\n",
       "      <td>3</td>\n",
       "      <td>3</td>\n",
       "      <td>Opel</td>\n",
       "    </tr>\n",
       "  </tbody>\n",
       "</table>\n",
       "</div>"
      ],
      "text/plain": [
       "         date  w_id  time   auto\n",
       "0  2023-12-08     1    12    Deu\n",
       "1  2023-12-07     3     4    BMW\n",
       "2  2023-12-09     1     9   Opel\n",
       "3  2023-12-06     2     8  Tesla\n",
       "4  2023-12-10     4     7   Audi\n",
       "5  2023-12-09     5     6   Jeep\n",
       "6  2023-12-10     2     9  Tesla\n",
       "7  2023-12-11     3     3   Opel"
      ]
     },
     "execution_count": 7,
     "metadata": {},
     "output_type": "execute_result"
    }
   ],
   "source": [
    "nariads"
   ]
  },
  {
   "cell_type": "code",
   "execution_count": 31,
   "id": "8ceacb39-e325-4e12-a905-7df1425d8dc4",
   "metadata": {
    "tags": []
   },
   "outputs": [
    {
     "data": {
      "text/html": [
       "<div>\n",
       "<style scoped>\n",
       "    .dataframe tbody tr th:only-of-type {\n",
       "        vertical-align: middle;\n",
       "    }\n",
       "\n",
       "    .dataframe tbody tr th {\n",
       "        vertical-align: top;\n",
       "    }\n",
       "\n",
       "    .dataframe thead th {\n",
       "        text-align: right;\n",
       "    }\n",
       "</style>\n",
       "<table border=\"1\" class=\"dataframe\">\n",
       "  <thead>\n",
       "    <tr style=\"text-align: right;\">\n",
       "      <th></th>\n",
       "      <th>worker_id</th>\n",
       "      <th>surname</th>\n",
       "      <th>brig_id</th>\n",
       "      <th>brig_name</th>\n",
       "      <th>salarry</th>\n",
       "    </tr>\n",
       "  </thead>\n",
       "  <tbody>\n",
       "    <tr>\n",
       "      <th>0</th>\n",
       "      <td>1</td>\n",
       "      <td>Romantsov</td>\n",
       "      <td>1</td>\n",
       "      <td>QWERTY</td>\n",
       "      <td>65</td>\n",
       "    </tr>\n",
       "    <tr>\n",
       "      <th>1</th>\n",
       "      <td>2</td>\n",
       "      <td>Marshenko</td>\n",
       "      <td>3</td>\n",
       "      <td>FUS</td>\n",
       "      <td>90</td>\n",
       "    </tr>\n",
       "    <tr>\n",
       "      <th>2</th>\n",
       "      <td>3</td>\n",
       "      <td>Kovalov</td>\n",
       "      <td>3</td>\n",
       "      <td>FUS</td>\n",
       "      <td>90</td>\n",
       "    </tr>\n",
       "    <tr>\n",
       "      <th>3</th>\n",
       "      <td>4</td>\n",
       "      <td>Ivanov</td>\n",
       "      <td>2</td>\n",
       "      <td>NUMONE</td>\n",
       "      <td>70</td>\n",
       "    </tr>\n",
       "    <tr>\n",
       "      <th>4</th>\n",
       "      <td>5</td>\n",
       "      <td>Homenko</td>\n",
       "      <td>2</td>\n",
       "      <td>NUMONE</td>\n",
       "      <td>70</td>\n",
       "    </tr>\n",
       "  </tbody>\n",
       "</table>\n",
       "</div>"
      ],
      "text/plain": [
       "   worker_id    surname  brig_id brig_name  salarry\n",
       "0          1  Romantsov        1    QWERTY       65\n",
       "1          2  Marshenko        3       FUS       90\n",
       "2          3    Kovalov        3       FUS       90\n",
       "3          4     Ivanov        2    NUMONE       70\n",
       "4          5    Homenko        2    NUMONE       70"
      ]
     },
     "execution_count": 31,
     "metadata": {},
     "output_type": "execute_result"
    }
   ],
   "source": [
    "#а\n",
    "mod_brigs = pd.merge(workers, brigades, left_on='brig_id', right_on='brgg_id').drop(\"brgg_id\", axis = 1)\n",
    "mod_brigs"
   ]
  },
  {
   "cell_type": "code",
   "execution_count": 9,
   "id": "11ba8c05-b935-4d8d-b840-9a2b9f4ca776",
   "metadata": {
    "tags": []
   },
   "outputs": [
    {
     "data": {
      "text/html": [
       "<div>\n",
       "<style scoped>\n",
       "    .dataframe tbody tr th:only-of-type {\n",
       "        vertical-align: middle;\n",
       "    }\n",
       "\n",
       "    .dataframe tbody tr th {\n",
       "        vertical-align: top;\n",
       "    }\n",
       "\n",
       "    .dataframe thead th {\n",
       "        text-align: right;\n",
       "    }\n",
       "</style>\n",
       "<table border=\"1\" class=\"dataframe\">\n",
       "  <thead>\n",
       "    <tr style=\"text-align: right;\">\n",
       "      <th></th>\n",
       "      <th>Brig_name</th>\n",
       "      <th>total</th>\n",
       "    </tr>\n",
       "  </thead>\n",
       "  <tbody>\n",
       "    <tr>\n",
       "      <th>0</th>\n",
       "      <td>QWERTY</td>\n",
       "      <td>1365</td>\n",
       "    </tr>\n",
       "    <tr>\n",
       "      <th>1</th>\n",
       "      <td>FUS</td>\n",
       "      <td>2160</td>\n",
       "    </tr>\n",
       "    <tr>\n",
       "      <th>2</th>\n",
       "      <td>NUMONE</td>\n",
       "      <td>910</td>\n",
       "    </tr>\n",
       "  </tbody>\n",
       "</table>\n",
       "</div>"
      ],
      "text/plain": [
       "  Brig_name  total\n",
       "0    QWERTY   1365\n",
       "1       FUS   2160\n",
       "2    NUMONE    910"
      ]
     },
     "execution_count": 9,
     "metadata": {},
     "output_type": "execute_result"
    }
   ],
   "source": [
    "brigs = mod_brigs[\"brig_name\"].unique()\n",
    "total_ern = []\n",
    "for it in brigs:\n",
    "    temp = mod_brigs[mod_brigs['brig_name'] == it]\n",
    "    temp = pd.merge(nariads, temp, left_on='w_id', right_on='worker_id').drop(\"w_id\", axis = 1)\n",
    "    temp[\"total_price\"] = temp[\"salarry\"]*temp[\"time\"]\n",
    "    total_ern.append(temp[\"total_price\"].sum())\n",
    "df = pd.DataFrame({\"Brig_name\" : brigs, \"total\" : total_ern})\n",
    "df"
   ]
  },
  {
   "cell_type": "code",
   "execution_count": 10,
   "id": "fcd604ae-ffe8-4b9d-ad03-3af5613a931f",
   "metadata": {
    "tags": []
   },
   "outputs": [
    {
     "data": {
      "application/vnd.jupyter.widget-view+json": {
       "model_id": "00ca3abb4d604ae18b469c211cd4d9d4",
       "version_major": 2,
       "version_minor": 0
      },
      "image/png": "[encoded data removed]",
      "text/html": [
       "\n",
       "            <div style=\"display: inline-block;\">\n",
       "                <div class=\"jupyter-widgets widget-label\" style=\"text-align: center;\">\n",
       "                    Figure\n",
       "                </div>\n",
       "                <img src='data:image/png;base64,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' width=640.0/>\n",
       "            </div>\n",
       "        "
      ],
      "text/plain": [
       "Canvas(toolbar=Toolbar(toolitems=[('Home', 'Reset original view', 'home', 'home'), ('Back', 'Back to previous …"
      ]
     },
     "metadata": {},
     "output_type": "display_data"
    }
   ],
   "source": [
    "#б\n",
    "plt.pie(df[\"total\"], labels = df[\"Brig_name\"])\n",
    "plt.show()"
   ]
  },
  {
   "cell_type": "code",
   "execution_count": 11,
   "id": "3ef96bb8-1262-4e0f-85cd-463faf3bd72f",
   "metadata": {
    "tags": []
   },
   "outputs": [],
   "source": [
    "#В\n",
    "wd1 = ipywidgets.DatePicker()\n",
    "wd2 = ipywidgets.DatePicker()"
   ]
  },
  {
   "cell_type": "code",
   "execution_count": 23,
   "id": "10d5f91f-5a90-4899-ad68-8833abacdcb8",
   "metadata": {
    "tags": []
   },
   "outputs": [],
   "source": [
    "def sal_date(fir_d, sec_d, df):\n",
    "    if(fir_d>sec_d):\n",
    "        print(\"Wrong Date\")\n",
    "    else:\n",
    "        filtered_data = df[(df['date'] >= str(fir_d)) & (df['date'] <= str(sec_d))]\n",
    "        temp = pd.merge(filtered_data, mod_brigs, left_on='w_id', right_on='worker_id').drop(\"w_id\", axis = 1)\n",
    "        temp[\"total_sallary\"] = temp[\"time\"] * temp[\"salarry\"]\n",
    "        display(temp.groupby('surname')['total_sallary'].sum())"
   ]
  },
  {
   "cell_type": "code",
   "execution_count": 24,
   "id": "8cca73cc-1772-4253-b2f5-e9515d4b121e",
   "metadata": {
    "tags": []
   },
   "outputs": [
    {
     "data": {
      "application/vnd.jupyter.widget-view+json": {
       "model_id": "5b33a91093c7484fab7f65f52459f80a",
       "version_major": 2,
       "version_minor": 0
      },
      "text/plain": [
       "interactive(children=(DatePicker(value=datetime.date(2023, 12, 6), description='fir_d', step=1), DatePicker(va…"
      ]
     },
     "metadata": {},
     "output_type": "display_data"
    },
    {
     "data": {
      "text/plain": [
       "<function __main__.sal_date(fir_d, sec_d, df)>"
      ]
     },
     "execution_count": 24,
     "metadata": {},
     "output_type": "execute_result"
    }
   ],
   "source": [
    "ipywidgets.interact(sal_date, fir_d = wd1, sec_d = wd2, df = ipywidgets.fixed(nariads))"
   ]
  },
  {
   "cell_type": "code",
   "execution_count": 32,
   "id": "c61cfb59-25ba-4f52-b226-800f9a56cd58",
   "metadata": {
    "tags": []
   },
   "outputs": [
    {
     "data": {
      "text/html": [
       "<div>\n",
       "<style scoped>\n",
       "    .dataframe tbody tr th:only-of-type {\n",
       "        vertical-align: middle;\n",
       "    }\n",
       "\n",
       "    .dataframe tbody tr th {\n",
       "        vertical-align: top;\n",
       "    }\n",
       "\n",
       "    .dataframe thead th {\n",
       "        text-align: right;\n",
       "    }\n",
       "</style>\n",
       "<table border=\"1\" class=\"dataframe\">\n",
       "  <thead>\n",
       "    <tr style=\"text-align: right;\">\n",
       "      <th></th>\n",
       "      <th>worker_id</th>\n",
       "      <th>surname</th>\n",
       "      <th>brig_id</th>\n",
       "      <th>brig_name</th>\n",
       "      <th>salarry</th>\n",
       "    </tr>\n",
       "  </thead>\n",
       "  <tbody>\n",
       "    <tr>\n",
       "      <th>0</th>\n",
       "      <td>1</td>\n",
       "      <td>Romantsov</td>\n",
       "      <td>1</td>\n",
       "      <td>QWERTY</td>\n",
       "      <td>65</td>\n",
       "    </tr>\n",
       "    <tr>\n",
       "      <th>1</th>\n",
       "      <td>2</td>\n",
       "      <td>Marshenko</td>\n",
       "      <td>3</td>\n",
       "      <td>FUS</td>\n",
       "      <td>90</td>\n",
       "    </tr>\n",
       "    <tr>\n",
       "      <th>2</th>\n",
       "      <td>3</td>\n",
       "      <td>Kovalov</td>\n",
       "      <td>3</td>\n",
       "      <td>FUS</td>\n",
       "      <td>90</td>\n",
       "    </tr>\n",
       "    <tr>\n",
       "      <th>3</th>\n",
       "      <td>4</td>\n",
       "      <td>Ivanov</td>\n",
       "      <td>2</td>\n",
       "      <td>NUMONE</td>\n",
       "      <td>70</td>\n",
       "    </tr>\n",
       "    <tr>\n",
       "      <th>4</th>\n",
       "      <td>5</td>\n",
       "      <td>Homenko</td>\n",
       "      <td>2</td>\n",
       "      <td>NUMONE</td>\n",
       "      <td>70</td>\n",
       "    </tr>\n",
       "  </tbody>\n",
       "</table>\n",
       "</div>"
      ],
      "text/plain": [
       "   worker_id    surname  brig_id brig_name  salarry\n",
       "0          1  Romantsov        1    QWERTY       65\n",
       "1          2  Marshenko        3       FUS       90\n",
       "2          3    Kovalov        3       FUS       90\n",
       "3          4     Ivanov        2    NUMONE       70\n",
       "4          5    Homenko        2    NUMONE       70"
      ]
     },
     "execution_count": 32,
     "metadata": {},
     "output_type": "execute_result"
    }
   ],
   "source": [
    "mod_brigs"
   ]
  },
  {
   "cell_type": "code",
   "execution_count": 54,
   "id": "5ba879e7-e13a-464e-a555-8a0c0326739c",
   "metadata": {
    "tags": []
   },
   "outputs": [
    {
     "data": {
      "text/html": [
       "<div>\n",
       "<style scoped>\n",
       "    .dataframe tbody tr th:only-of-type {\n",
       "        vertical-align: middle;\n",
       "    }\n",
       "\n",
       "    .dataframe tbody tr th {\n",
       "        vertical-align: top;\n",
       "    }\n",
       "\n",
       "    .dataframe thead th {\n",
       "        text-align: right;\n",
       "    }\n",
       "</style>\n",
       "<table border=\"1\" class=\"dataframe\">\n",
       "  <thead>\n",
       "    <tr style=\"text-align: right;\">\n",
       "      <th></th>\n",
       "      <th>auto</th>\n",
       "      <th>Total</th>\n",
       "    </tr>\n",
       "  </thead>\n",
       "  <tbody>\n",
       "    <tr>\n",
       "      <th>2</th>\n",
       "      <td>Tesla</td>\n",
       "      <td>1530</td>\n",
       "    </tr>\n",
       "    <tr>\n",
       "      <th>1</th>\n",
       "      <td>Opel</td>\n",
       "      <td>855</td>\n",
       "    </tr>\n",
       "    <tr>\n",
       "      <th>0</th>\n",
       "      <td>Deu</td>\n",
       "      <td>780</td>\n",
       "    </tr>\n",
       "    <tr>\n",
       "      <th>4</th>\n",
       "      <td>Audi</td>\n",
       "      <td>490</td>\n",
       "    </tr>\n",
       "    <tr>\n",
       "      <th>5</th>\n",
       "      <td>Jeep</td>\n",
       "      <td>420</td>\n",
       "    </tr>\n",
       "    <tr>\n",
       "      <th>3</th>\n",
       "      <td>BMW</td>\n",
       "      <td>360</td>\n",
       "    </tr>\n",
       "  </tbody>\n",
       "</table>\n",
       "</div>"
      ],
      "text/plain": [
       "    auto  Total\n",
       "2  Tesla   1530\n",
       "1   Opel    855\n",
       "0    Deu    780\n",
       "4   Audi    490\n",
       "5   Jeep    420\n",
       "3    BMW    360"
      ]
     },
     "execution_count": 54,
     "metadata": {},
     "output_type": "execute_result"
    }
   ],
   "source": [
    "#Г\n",
    "mod_brigs_mod = mod_brigs[[\"worker_id\",\"salarry\"]]\n",
    "merged = pd.merge(mod_brigs_mod, nariads, left_on='worker_id', right_on='w_id')\n",
    "merged[\"Total\"] = merged[\"salarry\"] * merged[\"time\"]\n",
    "merged = merged[[\"auto\",\"Total\"]]\n",
    "autos = merged[\"auto\"].unique()\n",
    "totals = []\n",
    "for it in autos:\n",
    "    temp = merged[merged[\"auto\"]==it]\n",
    "    totals.append(temp[\"Total\"].sum())\n",
    "autos_df = pd.DataFrame({\"auto\" : autos, \"Total\" : totals}).sort_values(['Total'], ascending=(False))\n",
    "autos_df"
   ]
  },
  {
   "cell_type": "code",
   "execution_count": null,
   "id": "019927da-055d-4f4e-8f78-0df3c094258b",
   "metadata": {},
   "outputs": [],
   "source": []
  }
 ],
 "metadata": {
  "kernelspec": {
   "display_name": "Python 3 (ipykernel)",
   "language": "python",
   "name": "python3"
  },
  "language_info": {
   "codemirror_mode": {
    "name": "ipython",
    "version": 3
   },
   "file_extension": ".py",
   "mimetype": "text/x-python",
   "name": "python",
   "nbconvert_exporter": "python",
   "pygments_lexer": "ipython3",
   "version": "3.11.4"
  }
 },
 "nbformat": 4,
 "nbformat_minor": 5
}
