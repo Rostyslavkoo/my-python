{
 "cells": [
  {
   "cell_type": "code",
   "execution_count": 99,
   "metadata": {},
   "outputs": [],
   "source": [
    "import pandas as pd\n",
    "import matplotlib.pyplot as plt\n",
    "from ipywidgets import widgets"
   ]
  },
  {
   "cell_type": "code",
   "execution_count": 100,
   "metadata": {},
   "outputs": [
    {
     "data": {
      "text/html": [
       "<div>\n",
       "<style scoped>\n",
       "    .dataframe tbody tr th:only-of-type {\n",
       "        vertical-align: middle;\n",
       "    }\n",
       "\n",
       "    .dataframe tbody tr th {\n",
       "        vertical-align: top;\n",
       "    }\n",
       "\n",
       "    .dataframe thead th {\n",
       "        text-align: right;\n",
       "    }\n",
       "</style>\n",
       "<table border=\"1\" class=\"dataframe\">\n",
       "  <thead>\n",
       "    <tr style=\"text-align: right;\">\n",
       "      <th></th>\n",
       "      <th>department_id</th>\n",
       "      <th>department_name</th>\n",
       "      <th>tariff_per_hour</th>\n",
       "      <th>doctor_id</th>\n",
       "      <th>last_name</th>\n",
       "      <th>date</th>\n",
       "      <th>patient_last_name</th>\n",
       "      <th>spent_hours</th>\n",
       "    </tr>\n",
       "  </thead>\n",
       "  <tbody>\n",
       "    <tr>\n",
       "      <th>0</th>\n",
       "      <td>1</td>\n",
       "      <td>Педіатрія</td>\n",
       "      <td>30</td>\n",
       "      <td>101</td>\n",
       "      <td>Іванов</td>\n",
       "      <td>2022-01-01</td>\n",
       "      <td>Сидоренко</td>\n",
       "      <td>2</td>\n",
       "    </tr>\n",
       "    <tr>\n",
       "      <th>1</th>\n",
       "      <td>1</td>\n",
       "      <td>Педіатрія</td>\n",
       "      <td>30</td>\n",
       "      <td>101</td>\n",
       "      <td>Іванов</td>\n",
       "      <td>2022-01-03</td>\n",
       "      <td>Іванова</td>\n",
       "      <td>4</td>\n",
       "    </tr>\n",
       "    <tr>\n",
       "      <th>2</th>\n",
       "      <td>1</td>\n",
       "      <td>Педіатрія</td>\n",
       "      <td>30</td>\n",
       "      <td>102</td>\n",
       "      <td>Петров</td>\n",
       "      <td>2022-01-02</td>\n",
       "      <td>Петрова</td>\n",
       "      <td>3</td>\n",
       "    </tr>\n",
       "    <tr>\n",
       "      <th>3</th>\n",
       "      <td>1</td>\n",
       "      <td>Педіатрія</td>\n",
       "      <td>30</td>\n",
       "      <td>102</td>\n",
       "      <td>Петров</td>\n",
       "      <td>2022-01-01</td>\n",
       "      <td>Іванова</td>\n",
       "      <td>10</td>\n",
       "    </tr>\n",
       "    <tr>\n",
       "      <th>4</th>\n",
       "      <td>2</td>\n",
       "      <td>Терапія</td>\n",
       "      <td>25</td>\n",
       "      <td>103</td>\n",
       "      <td>Сидоров</td>\n",
       "      <td>2022-01-03</td>\n",
       "      <td>Іванова</td>\n",
       "      <td>4</td>\n",
       "    </tr>\n",
       "    <tr>\n",
       "      <th>5</th>\n",
       "      <td>2</td>\n",
       "      <td>Терапія</td>\n",
       "      <td>25</td>\n",
       "      <td>104</td>\n",
       "      <td>Коваленко</td>\n",
       "      <td>2022-01-01</td>\n",
       "      <td>Коваленко</td>\n",
       "      <td>2</td>\n",
       "    </tr>\n",
       "    <tr>\n",
       "      <th>6</th>\n",
       "      <td>3</td>\n",
       "      <td>Хірургія</td>\n",
       "      <td>35</td>\n",
       "      <td>105</td>\n",
       "      <td>Сергієнко</td>\n",
       "      <td>2022-01-02</td>\n",
       "      <td>Сергієнко</td>\n",
       "      <td>3</td>\n",
       "    </tr>\n",
       "  </tbody>\n",
       "</table>\n",
       "</div>"
      ],
      "text/plain": [
       "   department_id department_name  tariff_per_hour  doctor_id  last_name  \\\n",
       "0              1       Педіатрія               30        101     Іванов   \n",
       "1              1       Педіатрія               30        101     Іванов   \n",
       "2              1       Педіатрія               30        102     Петров   \n",
       "3              1       Педіатрія               30        102     Петров   \n",
       "4              2         Терапія               25        103    Сидоров   \n",
       "5              2         Терапія               25        104  Коваленко   \n",
       "6              3        Хірургія               35        105  Сергієнко   \n",
       "\n",
       "         date patient_last_name  spent_hours  \n",
       "0  2022-01-01         Сидоренко            2  \n",
       "1  2022-01-03           Іванова            4  \n",
       "2  2022-01-02           Петрова            3  \n",
       "3  2022-01-01           Іванова           10  \n",
       "4  2022-01-03           Іванова            4  \n",
       "5  2022-01-01         Коваленко            2  \n",
       "6  2022-01-02         Сергієнко            3  "
      ]
     },
     "execution_count": 100,
     "metadata": {},
     "output_type": "execute_result"
    }
   ],
   "source": [
    "departments = pd.read_csv('departments.csv')\n",
    "doctors = pd.read_csv('doctors.csv')\n",
    "services1 = pd.read_csv('services1.csv')\n",
    "services2 = pd.read_csv('services2.csv')\n",
    "\n",
    "services = pd.concat([services1,services2],ignore_index=True)\n",
    "merged_data = pd.merge(departments, doctors,on='department_id')\n",
    "merged_data = pd.merge(merged_data, services, on='doctor_id')\n",
    "merged_data"
   ]
  },
  {
   "cell_type": "code",
   "execution_count": 101,
   "metadata": {},
   "outputs": [
    {
     "data": {
      "text/html": [
       "<div>\n",
       "<style scoped>\n",
       "    .dataframe tbody tr th:only-of-type {\n",
       "        vertical-align: middle;\n",
       "    }\n",
       "\n",
       "    .dataframe tbody tr th {\n",
       "        vertical-align: top;\n",
       "    }\n",
       "\n",
       "    .dataframe thead th {\n",
       "        text-align: right;\n",
       "    }\n",
       "</style>\n",
       "<table border=\"1\" class=\"dataframe\">\n",
       "  <thead>\n",
       "    <tr style=\"text-align: right;\">\n",
       "      <th></th>\n",
       "      <th>last_name</th>\n",
       "      <th>total</th>\n",
       "    </tr>\n",
       "  </thead>\n",
       "  <tbody>\n",
       "    <tr>\n",
       "      <th>0</th>\n",
       "      <td>Іванов</td>\n",
       "      <td>180</td>\n",
       "    </tr>\n",
       "    <tr>\n",
       "      <th>1</th>\n",
       "      <td>Коваленко</td>\n",
       "      <td>50</td>\n",
       "    </tr>\n",
       "    <tr>\n",
       "      <th>2</th>\n",
       "      <td>Петров</td>\n",
       "      <td>390</td>\n",
       "    </tr>\n",
       "    <tr>\n",
       "      <th>3</th>\n",
       "      <td>Сергієнко</td>\n",
       "      <td>105</td>\n",
       "    </tr>\n",
       "    <tr>\n",
       "      <th>4</th>\n",
       "      <td>Сидоров</td>\n",
       "      <td>100</td>\n",
       "    </tr>\n",
       "  </tbody>\n",
       "</table>\n",
       "</div>"
      ],
      "text/plain": [
       "   last_name  total\n",
       "0     Іванов    180\n",
       "1  Коваленко     50\n",
       "2     Петров    390\n",
       "3  Сергієнко    105\n",
       "4    Сидоров    100"
      ]
     },
     "execution_count": 101,
     "metadata": {},
     "output_type": "execute_result"
    }
   ],
   "source": [
    "# (а) таблицю, в якiй для кожного лiкаря пораховано заробленi ним кошти за весь час;\n",
    "\n",
    "merged_data['total'] = merged_data['tariff_per_hour'] * merged_data['spent_hours']\n",
    "earnings_by_doctor = merged_data.groupby('last_name')['total'].sum().reset_index()\n",
    "earnings_by_doctor"
   ]
  },
  {
   "cell_type": "code",
   "execution_count": 102,
   "metadata": {},
   "outputs": [
    {
     "data": {
      "image/png": "[encoded data removed]",
      "text/plain": [
       "<Figure size 640x480 with 1 Axes>"
      ]
     },
     "metadata": {},
     "output_type": "display_data"
    }
   ],
   "source": [
    "#(б) дiаграму до попереднього пункту;\n",
    "plt.bar(earnings_by_doctor['last_name'],earnings_by_doctor['total'])\n",
    "plt.ylabel('Зароблені кошти')\n",
    "plt.show()\n"
   ]
  },
  {
   "cell_type": "code",
   "execution_count": 103,
   "metadata": {},
   "outputs": [
    {
     "data": {
      "application/vnd.jupyter.widget-view+json": {
       "model_id": "fc30e8b365d24d1d80cb2a276b5c97e5",
       "version_major": 2,
       "version_minor": 0
      },
      "text/plain": [
       "DatePicker(value=Timestamp('2022-01-01 00:00:00'), description='Початкова дата', step=1)"
      ]
     },
     "metadata": {},
     "output_type": "display_data"
    },
    {
     "data": {
      "application/vnd.jupyter.widget-view+json": {
       "model_id": "f0470689fdde451c86e638ec1cb2ff1b",
       "version_major": 2,
       "version_minor": 0
      },
      "text/plain": [
       "DatePicker(value=Timestamp('2022-01-03 00:00:00'), description='Кінцева дата', step=1)"
      ]
     },
     "metadata": {},
     "output_type": "display_data"
    }
   ],
   "source": [
    "#(в) таблицю, в якiй для кожного вiддiлення пораховано кошти, за- робленi його лiкарями за перiод часу, визначений вiджетами;\n",
    "start_date_widget = widgets.DatePicker(description='Початкова дата',value =pd.to_datetime(merged_data['date'].min()))\n",
    "end_date_widget = widgets.DatePicker(description='Кінцева дата',value =pd.to_datetime(merged_data['date'].max()))\n",
    "\n",
    "display(start_date_widget,end_date_widget)"
   ]
  },
  {
   "cell_type": "code",
   "execution_count": 104,
   "metadata": {},
   "outputs": [
    {
     "data": {
      "text/html": [
       "<div>\n",
       "<style scoped>\n",
       "    .dataframe tbody tr th:only-of-type {\n",
       "        vertical-align: middle;\n",
       "    }\n",
       "\n",
       "    .dataframe tbody tr th {\n",
       "        vertical-align: top;\n",
       "    }\n",
       "\n",
       "    .dataframe thead th {\n",
       "        text-align: right;\n",
       "    }\n",
       "</style>\n",
       "<table border=\"1\" class=\"dataframe\">\n",
       "  <thead>\n",
       "    <tr style=\"text-align: right;\">\n",
       "      <th></th>\n",
       "      <th>last_name</th>\n",
       "      <th>total</th>\n",
       "    </tr>\n",
       "  </thead>\n",
       "  <tbody>\n",
       "    <tr>\n",
       "      <th>0</th>\n",
       "      <td>Іванов</td>\n",
       "      <td>180</td>\n",
       "    </tr>\n",
       "    <tr>\n",
       "      <th>1</th>\n",
       "      <td>Коваленко</td>\n",
       "      <td>50</td>\n",
       "    </tr>\n",
       "    <tr>\n",
       "      <th>2</th>\n",
       "      <td>Петров</td>\n",
       "      <td>390</td>\n",
       "    </tr>\n",
       "    <tr>\n",
       "      <th>3</th>\n",
       "      <td>Сергієнко</td>\n",
       "      <td>105</td>\n",
       "    </tr>\n",
       "    <tr>\n",
       "      <th>4</th>\n",
       "      <td>Сидоров</td>\n",
       "      <td>100</td>\n",
       "    </tr>\n",
       "  </tbody>\n",
       "</table>\n",
       "</div>"
      ],
      "text/plain": [
       "   last_name  total\n",
       "0     Іванов    180\n",
       "1  Коваленко     50\n",
       "2     Петров    390\n",
       "3  Сергієнко    105\n",
       "4    Сидоров    100"
      ]
     },
     "execution_count": 104,
     "metadata": {},
     "output_type": "execute_result"
    }
   ],
   "source": [
    "merged_data['date'] = pd.to_datetime(merged_data['date'])\n",
    "chosen_start_date = pd.to_datetime(start_date_widget.value)\n",
    "chosen_end_date = pd.to_datetime(end_date_widget.value)\n",
    "\n",
    "selected_date = merged_data[(merged_data['date'] >= chosen_start_date) & (merged_data['date']<= chosen_end_date)]\n",
    "erned_by_doctor_by_time = selected_date.groupby(['last_name'])['total'].sum().reset_index()\n",
    "erned_by_doctor_by_time\n"
   ]
  },
  {
   "cell_type": "code",
   "execution_count": 105,
   "metadata": {},
   "outputs": [
    {
     "data": {
      "text/html": [
       "<div>\n",
       "<style scoped>\n",
       "    .dataframe tbody tr th:only-of-type {\n",
       "        vertical-align: middle;\n",
       "    }\n",
       "\n",
       "    .dataframe tbody tr th {\n",
       "        vertical-align: top;\n",
       "    }\n",
       "\n",
       "    .dataframe thead th {\n",
       "        text-align: right;\n",
       "    }\n",
       "</style>\n",
       "<table border=\"1\" class=\"dataframe\">\n",
       "  <thead>\n",
       "    <tr style=\"text-align: right;\">\n",
       "      <th></th>\n",
       "      <th>patient_last_name</th>\n",
       "      <th>date</th>\n",
       "      <th>total</th>\n",
       "    </tr>\n",
       "  </thead>\n",
       "  <tbody>\n",
       "    <tr>\n",
       "      <th>0</th>\n",
       "      <td>Іванова</td>\n",
       "      <td>2022-01-01</td>\n",
       "      <td>300</td>\n",
       "    </tr>\n",
       "    <tr>\n",
       "      <th>1</th>\n",
       "      <td>Іванова</td>\n",
       "      <td>2022-01-03</td>\n",
       "      <td>220</td>\n",
       "    </tr>\n",
       "    <tr>\n",
       "      <th>2</th>\n",
       "      <td>Коваленко</td>\n",
       "      <td>2022-01-01</td>\n",
       "      <td>50</td>\n",
       "    </tr>\n",
       "    <tr>\n",
       "      <th>3</th>\n",
       "      <td>Петрова</td>\n",
       "      <td>2022-01-02</td>\n",
       "      <td>90</td>\n",
       "    </tr>\n",
       "    <tr>\n",
       "      <th>4</th>\n",
       "      <td>Сергієнко</td>\n",
       "      <td>2022-01-02</td>\n",
       "      <td>105</td>\n",
       "    </tr>\n",
       "    <tr>\n",
       "      <th>5</th>\n",
       "      <td>Сидоренко</td>\n",
       "      <td>2022-01-01</td>\n",
       "      <td>60</td>\n",
       "    </tr>\n",
       "  </tbody>\n",
       "</table>\n",
       "</div>"
      ],
      "text/plain": [
       "  patient_last_name       date  total\n",
       "0           Іванова 2022-01-01    300\n",
       "1           Іванова 2022-01-03    220\n",
       "2         Коваленко 2022-01-01     50\n",
       "3           Петрова 2022-01-02     90\n",
       "4         Сергієнко 2022-01-02    105\n",
       "5         Сидоренко 2022-01-01     60"
      ]
     },
     "execution_count": 105,
     "metadata": {},
     "output_type": "execute_result"
    }
   ],
   "source": [
    "#(г) таблицю, в якiй подано кошти, витраченi сумарно пацiєнтом кожного дня, коли вiн вiдвiдував заклад.\n",
    "earnings_by_patient_day = selected_date.groupby(['patient_last_name','date'])['total'].sum().reset_index()\n",
    "earnings_by_patient_day"
   ]
  }
 ],
 "metadata": {
  "kernelspec": {
   "display_name": "Python 3",
   "language": "python",
   "name": "python3"
  },
  "language_info": {
   "codemirror_mode": {
    "name": "ipython",
    "version": 3
   },
   "file_extension": ".py",
   "mimetype": "text/x-python",
   "name": "python",
   "nbconvert_exporter": "python",
   "pygments_lexer": "ipython3",
   "version": "3.10.8"
  }
 },
 "nbformat": 4,
 "nbformat_minor": 2
}
