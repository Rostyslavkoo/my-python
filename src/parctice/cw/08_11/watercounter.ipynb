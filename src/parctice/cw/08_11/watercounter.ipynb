{
 "cells": [
  {
   "cell_type": "code",
   "execution_count": 74,
   "metadata": {},
   "outputs": [],
   "source": [
    "import pandas as pd"
   ]
  },
  {
   "cell_type": "code",
   "execution_count": 75,
   "metadata": {},
   "outputs": [],
   "source": [
    "class WaterCounter:\n",
    "    def __init__(self, flat_number, month_number, current_count, previous_count):\n",
    "        self.flat_number = flat_number\n",
    "        self.month_number = month_number\n",
    "        self.current_count = current_count\n",
    "        self.previous_count = previous_count"
   ]
  },
  {
   "cell_type": "code",
   "execution_count": 76,
   "metadata": {},
   "outputs": [
    {
     "name": "stdout",
     "output_type": "stream",
     "text": [
      "  flat_number month_number current_count previous_count\n",
      "0         101            2           150            180\n",
      "1         102            2           350            480\n",
      "2         103            3           450            580\n"
     ]
    }
   ],
   "source": [
    "df = pd.DataFrame(columns=['flat_number', 'month_number', 'current_count', 'previous_count'])\n",
    "\n",
    "data = pd.read_csv('count1.csv')\n",
    "df = pd.concat([df, data], ignore_index=True)\n",
    "\n",
    "print(df)\n"
   ]
  },
  {
   "cell_type": "code",
   "execution_count": 77,
   "metadata": {},
   "outputs": [],
   "source": [
    "ivalid_rows = df[df['previous_count'] < df['current_count']]\n",
    "if not ivalid_rows.empty:\n",
    "    print('ERROR Current previous count large that current')\n",
    "    print(ivalid_rows)"
   ]
  },
  {
   "cell_type": "code",
   "execution_count": 78,
   "metadata": {},
   "outputs": [
    {
     "name": "stdout",
     "output_type": "stream",
     "text": [
      "   flat_number  month_number  current_count  previous_count\n",
      "0          101             2            150             180\n",
      "1          102             2            350             480\n"
     ]
    }
   ],
   "source": [
    "specific_month_data = data[data['month_number'] == 2]\n",
    "print(specific_month_data)\n"
   ]
  }
 ],
 "metadata": {
  "kernelspec": {
   "display_name": "Python 3",
   "language": "python",
   "name": "python3"
  },
  "language_info": {
   "codemirror_mode": {
    "name": "ipython",
    "version": 3
   },
   "file_extension": ".py",
   "mimetype": "text/x-python",
   "name": "python",
   "nbconvert_exporter": "python",
   "pygments_lexer": "ipython3",
   "version": "3.10.8"
  }
 },
 "nbformat": 4,
 "nbformat_minor": 2
}
