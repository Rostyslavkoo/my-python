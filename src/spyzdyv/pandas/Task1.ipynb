{
 "cells": [
  {
   "cell_type": "code",
   "execution_count": 85,
   "metadata": {},
   "outputs": [],
   "source": [
    "import numpy as np\n",
    "import csv\n",
    "import datetime"
   ]
  },
  {
   "cell_type": "code",
   "execution_count": 86,
   "metadata": {},
   "outputs": [],
   "source": [
    "class Visitor:\n",
    "    def __init__(self, name, id, money):\n",
    "        self.name = name\n",
    "        self.id = id\n",
    "        self.money = money\n",
    "\n",
    "    @property\n",
    "    def id(self):\n",
    "        return self._id\n",
    "    \n",
    "    @id.setter\n",
    "    def id(self, id):\n",
    "        if id < 0:\n",
    "            raise ValueError(\"id must be positive\")\n",
    "        self._id = id\n",
    "    \n",
    "    @property\n",
    "    def money(self):\n",
    "        return self._money\n",
    "    \n",
    "    @money.setter\n",
    "    def money(self, money):\n",
    "        if money < 0:\n",
    "            raise ValueError(\"money must be positive\")\n",
    "        self._money = money\n",
    "\n",
    "    def pay(self, amount):\n",
    "        if amount > self.money:\n",
    "            raise ValueError(\"not enough money\")\n",
    "        self.money -= amount\n",
    "\n",
    "    def __str__(self):\n",
    "        return f\"Visitor: {self.name}, id: {self.id}, money: {self.money}\""
   ]
  },
  {
   "cell_type": "code",
   "execution_count": 87,
   "metadata": {},
   "outputs": [],
   "source": [
    "class Training:\n",
    "    def __init__(self, name, id, price):\n",
    "        self.name = name\n",
    "        self.id = id\n",
    "        self.price = price\n",
    "    \n",
    "    @property\n",
    "    def id(self):\n",
    "        return self._id\n",
    "    \n",
    "    @id.setter\n",
    "    def id(self, id):\n",
    "        if id < 0:\n",
    "            raise ValueError(\"id must be positive\")\n",
    "        self._id = id\n",
    "\n",
    "    @property\n",
    "    def price(self):\n",
    "        return self._price\n",
    "    \n",
    "    @price.setter\n",
    "    def price(self, price):\n",
    "        if price < 0:\n",
    "            raise ValueError(\"price must be positive\")\n",
    "        self._price = price\n",
    "    \n",
    "    def __str__(self):\n",
    "        return f\"Training: {self.name}, id: {self.id}, price: {self.price}\""
   ]
  },
  {
   "cell_type": "code",
   "execution_count": 88,
   "metadata": {},
   "outputs": [],
   "source": [
    "class TrainingInfo:\n",
    "    def __init__(self, date, visitor_id, training_id):\n",
    "        self.date = datetime.datetime.strptime(date, '%Y-%m-%d')\n",
    "        self.visitor_id = visitor_id\n",
    "        self.training_id = training_id\n",
    "    \n",
    "    def __str__(self):\n",
    "        return f\"TrainingInfo: {self.date}, visitor_id: {self.visitor_id}, training_id: {self.training_id}\"\n",
    "    "
   ]
  },
  {
   "cell_type": "code",
   "execution_count": 89,
   "metadata": {},
   "outputs": [],
   "source": [
    "visitors = dict()\n",
    "trainings = dict()\n",
    "with open(\"visitors.csv\", \"r\") as file:\n",
    "    reader = csv.reader(file)\n",
    "    next(file)\n",
    "    for row in reader:\n",
    "        visitors[int(row[1])] = Visitor(row[0], int(row[1]), float(row[2]))\n",
    "\n",
    "with open(\"training.csv\", \"r\") as file:\n",
    "    next(file)\n",
    "    reader = csv.reader(file)\n",
    "    for row in reader:\n",
    "        trainings[int(row[1])] = Training(row[0], int(row[1]), float(row[2]))\n"
   ]
  },
  {
   "cell_type": "code",
   "execution_count": 90,
   "metadata": {},
   "outputs": [],
   "source": [
    "infos = []\n",
    "with open(\"info.csv\", \"r\") as file:\n",
    "    next(file)\n",
    "    reader = csv.reader(file)\n",
    "    for row in reader:\n",
    "        infos.append(TrainingInfo(row[0], int(row[1]), int(row[2])))"
   ]
  },
  {
   "cell_type": "code",
   "execution_count": 98,
   "metadata": {},
   "outputs": [],
   "source": [
    "#a\n",
    "trainings_per_visitor = {}\n",
    "for info in infos:\n",
    "    if info.training_id in trainings_per_visitor:\n",
    "        trainings_per_visitor[info.training_id] += 1\n",
    "    else:\n",
    "        trainings_per_visitor[info.training_id] = 1\n",
    "\n",
    "\n"
   ]
  },
  {
   "cell_type": "code",
   "execution_count": 99,
   "metadata": {},
   "outputs": [
    {
     "name": "stdout",
     "output_type": "stream",
     "text": [
      "{1: 2, 2: 2, 3: 1}\n"
     ]
    }
   ],
   "source": [
    "print(trainings_per_visitor)"
   ]
  },
  {
   "cell_type": "code",
   "execution_count": 100,
   "metadata": {},
   "outputs": [],
   "source": [
    "#b\n",
    "def count_payment(time_a, time_b, visitor_id):\n",
    "    payment = 0\n",
    "    count = 0\n",
    "    for info in infos:\n",
    "        if info.visitor_id == visitor_id and datetime.datetime.strptime(time_a, '%Y-%m-%d') <= info.date and info.date <= datetime.datetime.strptime(time_b, '%Y-%m-%d'):\n",
    "            if count == 0:    \n",
    "                payment += int(trainings[info.training_id].price)\n",
    "            else:\n",
    "                payment += int(trainings[info.training_id].price) * 0.6\n",
    "            count += 1\n",
    "    \n",
    "    visitors[visitor_id].pay(payment)\n",
    "    return payment, visitors[visitor_id].money"
   ]
  },
  {
   "cell_type": "code",
   "execution_count": 101,
   "metadata": {},
   "outputs": [
    {
     "data": {
      "text/plain": [
       "(15.0, 70.0)"
      ]
     },
     "execution_count": 101,
     "metadata": {},
     "output_type": "execute_result"
    }
   ],
   "source": [
    "count_payment(\"2019-01-01\", \"2023-01-31\", 2)"
   ]
  },
  {
   "cell_type": "code",
   "execution_count": 102,
   "metadata": {},
   "outputs": [],
   "source": [
    "#c\n",
    "def visitor_expenses(name):\n",
    "    visitor_id = None\n",
    "    for visitor in visitors.values():\n",
    "        if visitor.name == name:\n",
    "            visitor_id = visitor.id\n",
    "            break\n",
    "    if visitor_id == None:\n",
    "        raise ValueError(\"visitor not found\")\n",
    "    \n",
    "    payment = {}\n",
    "    dates = set()\n",
    "    for info in infos:\n",
    "        if info.visitor_id == visitor_id:\n",
    "            if info.training_id in payment:\n",
    "                if info.date in dates:\n",
    "                    payment[trainings[info.training_id].name] += int(trainings[info.training_id].price) * 0.6\n",
    "                else:\n",
    "                    payment[trainings[info.training_id].name] += int(trainings[info.training_id].price)\n",
    "            else:\n",
    "                if info.date in dates:\n",
    "                    payment[trainings[info.training_id].name] = int(trainings[info.training_id].price) * 0.6\n",
    "                else:\n",
    "                    payment[trainings[info.training_id].name] = int(trainings[info.training_id].price)\n",
    "            dates.add(info.date)\n",
    "    return payment"
   ]
  },
  {
   "cell_type": "code",
   "execution_count": 103,
   "metadata": {},
   "outputs": [
    {
     "data": {
      "text/plain": [
       "{'Pull-ups': 9, 'Jumping-Jacks': 6.0}"
      ]
     },
     "execution_count": 103,
     "metadata": {},
     "output_type": "execute_result"
    }
   ],
   "source": [
    "visitor_expenses(\"Sam\")"
   ]
  }
 ],
 "metadata": {
  "kernelspec": {
   "display_name": "Python 3",
   "language": "python",
   "name": "python3"
  },
  "language_info": {
   "codemirror_mode": {
    "name": "ipython",
    "version": 3
   },
   "file_extension": ".py",
   "mimetype": "text/x-python",
   "name": "python",
   "nbconvert_exporter": "python",
   "pygments_lexer": "ipython3",
   "version": "3.11.3"
  }
 },
 "nbformat": 4,
 "nbformat_minor": 2
}
