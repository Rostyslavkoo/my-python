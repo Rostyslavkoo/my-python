{
 "cells": [
  {
   "cell_type": "code",
   "execution_count": null,
   "id": "247d79dd-2b1b-4eed-978f-31a110a3b899",
   "metadata": {
    "tags": []
   },
   "outputs": [
    {
     "name": "stdout",
     "output_type": "stream",
     "text": [
      "Помилка: Є випадки, де поточний показник менший попереднього.\n",
      "  apartment_number month_number current_reading previous_reading\n",
      "0              101            2             150              180\n",
      "1              102            2             350              480\n",
      "2              103            3             450              580\n"
     ]
    },
    {
     "data": {
      "text/html": [
       "<div>\n",
       "<style scoped>\n",
       "    .dataframe tbody tr th:only-of-type {\n",
       "        vertical-align: middle;\n",
       "    }\n",
       "\n",
       "    .dataframe tbody tr th {\n",
       "        vertical-align: top;\n",
       "    }\n",
       "\n",
       "    .dataframe thead th {\n",
       "        text-align: right;\n",
       "    }\n",
       "</style>\n",
       "<table border=\"1\" class=\"dataframe\">\n",
       "  <thead>\n",
       "    <tr style=\"text-align: right;\">\n",
       "      <th></th>\n",
       "      <th>apartment_number</th>\n",
       "      <th>month_number</th>\n",
       "      <th>current_reading</th>\n",
       "      <th>previous_reading</th>\n",
       "    </tr>\n",
       "  </thead>\n",
       "  <tbody>\n",
       "    <tr>\n",
       "      <th>2</th>\n",
       "      <td>103</td>\n",
       "      <td>3</td>\n",
       "      <td>450</td>\n",
       "      <td>580</td>\n",
       "    </tr>\n",
       "  </tbody>\n",
       "</table>\n",
       "</div>"
      ],
      "text/plain": [
       "  apartment_number month_number current_reading previous_reading\n",
       "2              103            3             450              580"
      ]
     },
     "execution_count": 4,
     "metadata": {},
     "output_type": "execute_result"
    }
   ],
   "source": [
    "import pandas as pd\n",
    "\n",
    "class WaterCounter:\n",
    "    def __init__(self, apartment_number, month_number, current_reading, previous_reading):\n",
    "        self.apartment_number = apartment_number\n",
    "        self.month_number = month_number\n",
    "        self.current_reading = current_reading\n",
    "        self.previous_reading = previous_reading\n",
    "\n",
    "df = pd.DataFrame(columns=['apartment_number', 'month_number', 'current_reading', 'previous_reading'])\n",
    "\n",
    "data = pd.read_csv('file.csv')\n",
    "df = pd.concat([df, data], ignore_index=True)\n",
    "\n",
    "\n",
    "invalid_rows = df[df['current_reading'] < df['previous_reading']]\n",
    "\n",
    "if not invalid_rows.empty:\n",
    "    print(\"Помилка: Є випадки, де поточний показник менший попереднього.\")\n",
    "    print(invalid_rows)\n",
    "else:\n",
    "    print(\"Умова виконана. Немає випадків, де поточний показник менший попереднього.\")\n",
    "    \n",
    "month_3_data = df[df['month_number'] == 3]\n",
    "month_3_data"
   ]
  },
  {
   "cell_type": "code",
   "execution_count": null,
   "id": "07a6999d-c46a-432a-a6b2-0976ade79932",
   "metadata": {},
   "outputs": [],
   "source": []
  }
 ],
 "metadata": {
  "kernelspec": {
   "display_name": "Python 3 (ipykernel)",
   "language": "python",
   "name": "python3"
  },
  "language_info": {
   "codemirror_mode": {
    "name": "ipython",
    "version": 3
   },
   "file_extension": ".py",
   "mimetype": "text/x-python",
   "name": "python",
   "nbconvert_exporter": "python",
   "pygments_lexer": "ipython3",
   "version": "3.11.4"
  }
 },
 "nbformat": 4,
 "nbformat_minor": 5
}
