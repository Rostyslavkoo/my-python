{
 "cells": [
  {
   "cell_type": "code",
   "execution_count": 14,
   "id": "dbb98031-a770-4b93-b8f5-66ff5ff9fe3a",
   "metadata": {
    "tags": []
   },
   "outputs": [],
   "source": [
    "import numpy as np\n",
    "import matplotlib.pyplot as plt\n",
    "import pandas as pd\n",
    "import os"
   ]
  },
  {
   "cell_type": "code",
   "execution_count": 2,
   "id": "cb527d9f-708f-4500-b8b4-6fa3e85f669b",
   "metadata": {
    "tags": []
   },
   "outputs": [],
   "source": [
    "class Project:\n",
    "    def __init__(self, p_id, p_name):\n",
    "        self.p_id = p_id\n",
    "        self.p_name = p_name\n",
    "    def __str__(self):\n",
    "        return f\"Id : {self.p_id}. Name : {self.p_name}.\""
   ]
  },
  {
   "cell_type": "code",
   "execution_count": 3,
   "id": "af345982-4b7f-4133-aa25-1bb6420c0944",
   "metadata": {
    "tags": []
   },
   "outputs": [],
   "source": [
    "class Employee:\n",
    "    def __init__(self, surname, num, salary):\n",
    "        self.surname = surname\n",
    "        self.num = num\n",
    "        self.salary = salary\n",
    "    def __str__(self):\n",
    "        return f\"Surname : {self.surname}. Number : {self.num}. Salary : {self.salary}.\""
   ]
  },
  {
   "cell_type": "code",
   "execution_count": 4,
   "id": "d31a7f5a-a78c-4fdb-873b-6af0d946d356",
   "metadata": {
    "tags": []
   },
   "outputs": [],
   "source": [
    "class Accout:\n",
    "    def __init__(self, data, p_id, emp_num, hours):\n",
    "        self.data = data\n",
    "        self.p_id = p_id\n",
    "        self.emp_num = emp_num\n",
    "        self.hours = hours"
   ]
  },
  {
   "cell_type": "code",
   "execution_count": 24,
   "id": "f9529477-425c-4484-b90d-2f799f0e02ad",
   "metadata": {
    "tags": []
   },
   "outputs": [],
   "source": [
    "employees = pd.read_csv('Proj\\\\workers.csv')"
   ]
  },
  {
   "cell_type": "code",
   "execution_count": 22,
   "id": "83299015-aa51-4610-b064-7927b4b3e627",
   "metadata": {
    "tags": []
   },
   "outputs": [
    {
     "data": {
      "text/html": [
       "<div>\n",
       "<style scoped>\n",
       "    .dataframe tbody tr th:only-of-type {\n",
       "        vertical-align: middle;\n",
       "    }\n",
       "\n",
       "    .dataframe tbody tr th {\n",
       "        vertical-align: top;\n",
       "    }\n",
       "\n",
       "    .dataframe thead th {\n",
       "        text-align: right;\n",
       "    }\n",
       "</style>\n",
       "<table border=\"1\" class=\"dataframe\">\n",
       "  <thead>\n",
       "    <tr style=\"text-align: right;\">\n",
       "      <th></th>\n",
       "      <th>worker_surname</th>\n",
       "      <th>worker_id</th>\n",
       "      <th>worker_salary</th>\n",
       "    </tr>\n",
       "  </thead>\n",
       "  <tbody>\n",
       "    <tr>\n",
       "      <th>0</th>\n",
       "      <td>Smith</td>\n",
       "      <td>1</td>\n",
       "      <td>20</td>\n",
       "    </tr>\n",
       "    <tr>\n",
       "      <th>1</th>\n",
       "      <td>Johnson</td>\n",
       "      <td>2</td>\n",
       "      <td>22</td>\n",
       "    </tr>\n",
       "    <tr>\n",
       "      <th>2</th>\n",
       "      <td>Williams</td>\n",
       "      <td>3</td>\n",
       "      <td>25</td>\n",
       "    </tr>\n",
       "    <tr>\n",
       "      <th>3</th>\n",
       "      <td>Jones</td>\n",
       "      <td>4</td>\n",
       "      <td>18</td>\n",
       "    </tr>\n",
       "    <tr>\n",
       "      <th>4</th>\n",
       "      <td>Brown</td>\n",
       "      <td>5</td>\n",
       "      <td>21</td>\n",
       "    </tr>\n",
       "  </tbody>\n",
       "</table>\n",
       "</div>"
      ],
      "text/plain": [
       "  worker_surname  worker_id  worker_salary\n",
       "0          Smith          1             20\n",
       "1        Johnson          2             22\n",
       "2       Williams          3             25\n",
       "3          Jones          4             18\n",
       "4          Brown          5             21"
      ]
     },
     "execution_count": 22,
     "metadata": {},
     "output_type": "execute_result"
    }
   ],
   "source": [
    "employees"
   ]
  },
  {
   "cell_type": "code",
   "execution_count": 42,
   "id": "fcdf229f-a3d2-4107-aa19-8eac0e7b6486",
   "metadata": {
    "tags": []
   },
   "outputs": [],
   "source": [
    "projects = pd.read_csv('Proj\\\\project.csv')"
   ]
  },
  {
   "cell_type": "code",
   "execution_count": 43,
   "id": "1d179fde-3371-4a63-a304-dc579cb063b1",
   "metadata": {
    "tags": []
   },
   "outputs": [
    {
     "data": {
      "text/html": [
       "<div>\n",
       "<style scoped>\n",
       "    .dataframe tbody tr th:only-of-type {\n",
       "        vertical-align: middle;\n",
       "    }\n",
       "\n",
       "    .dataframe tbody tr th {\n",
       "        vertical-align: top;\n",
       "    }\n",
       "\n",
       "    .dataframe thead th {\n",
       "        text-align: right;\n",
       "    }\n",
       "</style>\n",
       "<table border=\"1\" class=\"dataframe\">\n",
       "  <thead>\n",
       "    <tr style=\"text-align: right;\">\n",
       "      <th></th>\n",
       "      <th>project_id</th>\n",
       "      <th>project_name</th>\n",
       "    </tr>\n",
       "  </thead>\n",
       "  <tbody>\n",
       "    <tr>\n",
       "      <th>0</th>\n",
       "      <td>1</td>\n",
       "      <td>Project A</td>\n",
       "    </tr>\n",
       "    <tr>\n",
       "      <th>1</th>\n",
       "      <td>2</td>\n",
       "      <td>Project B</td>\n",
       "    </tr>\n",
       "    <tr>\n",
       "      <th>2</th>\n",
       "      <td>3</td>\n",
       "      <td>Project C</td>\n",
       "    </tr>\n",
       "    <tr>\n",
       "      <th>3</th>\n",
       "      <td>5</td>\n",
       "      <td>Project D</td>\n",
       "    </tr>\n",
       "    <tr>\n",
       "      <th>4</th>\n",
       "      <td>4</td>\n",
       "      <td>Project E</td>\n",
       "    </tr>\n",
       "  </tbody>\n",
       "</table>\n",
       "</div>"
      ],
      "text/plain": [
       "   project_id project_name\n",
       "0           1    Project A\n",
       "1           2    Project B\n",
       "2           3    Project C\n",
       "3           5    Project D\n",
       "4           4    Project E"
      ]
     },
     "execution_count": 43,
     "metadata": {},
     "output_type": "execute_result"
    }
   ],
   "source": [
    "projects"
   ]
  },
  {
   "cell_type": "code",
   "execution_count": 44,
   "id": "ceff1216-723d-4382-be02-46bea0424255",
   "metadata": {
    "tags": []
   },
   "outputs": [],
   "source": [
    "accounts = pd.read_csv('Proj\\\\accounts.csv')"
   ]
  },
  {
   "cell_type": "code",
   "execution_count": 45,
   "id": "903702b8-26d5-41a4-844a-988197c956c0",
   "metadata": {
    "tags": []
   },
   "outputs": [
    {
     "data": {
      "text/html": [
       "<div>\n",
       "<style scoped>\n",
       "    .dataframe tbody tr th:only-of-type {\n",
       "        vertical-align: middle;\n",
       "    }\n",
       "\n",
       "    .dataframe tbody tr th {\n",
       "        vertical-align: top;\n",
       "    }\n",
       "\n",
       "    .dataframe thead th {\n",
       "        text-align: right;\n",
       "    }\n",
       "</style>\n",
       "<table border=\"1\" class=\"dataframe\">\n",
       "  <thead>\n",
       "    <tr style=\"text-align: right;\">\n",
       "      <th></th>\n",
       "      <th>date</th>\n",
       "      <th>project_id_acc</th>\n",
       "      <th>worker_id_acc</th>\n",
       "      <th>amount_of_hours</th>\n",
       "    </tr>\n",
       "  </thead>\n",
       "  <tbody>\n",
       "    <tr>\n",
       "      <th>0</th>\n",
       "      <td>2023-01-10</td>\n",
       "      <td>1</td>\n",
       "      <td>2</td>\n",
       "      <td>8</td>\n",
       "    </tr>\n",
       "    <tr>\n",
       "      <th>1</th>\n",
       "      <td>2023-01-11</td>\n",
       "      <td>1</td>\n",
       "      <td>3</td>\n",
       "      <td>6</td>\n",
       "    </tr>\n",
       "    <tr>\n",
       "      <th>2</th>\n",
       "      <td>2023-01-12</td>\n",
       "      <td>2</td>\n",
       "      <td>4</td>\n",
       "      <td>7</td>\n",
       "    </tr>\n",
       "    <tr>\n",
       "      <th>3</th>\n",
       "      <td>2023-01-13</td>\n",
       "      <td>2</td>\n",
       "      <td>3</td>\n",
       "      <td>5</td>\n",
       "    </tr>\n",
       "    <tr>\n",
       "      <th>4</th>\n",
       "      <td>2023-01-14</td>\n",
       "      <td>3</td>\n",
       "      <td>1</td>\n",
       "      <td>9</td>\n",
       "    </tr>\n",
       "    <tr>\n",
       "      <th>5</th>\n",
       "      <td>2023-01-15</td>\n",
       "      <td>4</td>\n",
       "      <td>4</td>\n",
       "      <td>6</td>\n",
       "    </tr>\n",
       "    <tr>\n",
       "      <th>6</th>\n",
       "      <td>2023-01-16</td>\n",
       "      <td>4</td>\n",
       "      <td>2</td>\n",
       "      <td>7</td>\n",
       "    </tr>\n",
       "    <tr>\n",
       "      <th>7</th>\n",
       "      <td>2023-01-17</td>\n",
       "      <td>5</td>\n",
       "      <td>5</td>\n",
       "      <td>8</td>\n",
       "    </tr>\n",
       "    <tr>\n",
       "      <th>8</th>\n",
       "      <td>2023-01-18</td>\n",
       "      <td>3</td>\n",
       "      <td>1</td>\n",
       "      <td>6</td>\n",
       "    </tr>\n",
       "  </tbody>\n",
       "</table>\n",
       "</div>"
      ],
      "text/plain": [
       "         date  project_id_acc  worker_id_acc  amount_of_hours\n",
       "0  2023-01-10               1              2                8\n",
       "1  2023-01-11               1              3                6\n",
       "2  2023-01-12               2              4                7\n",
       "3  2023-01-13               2              3                5\n",
       "4  2023-01-14               3              1                9\n",
       "5  2023-01-15               4              4                6\n",
       "6  2023-01-16               4              2                7\n",
       "7  2023-01-17               5              5                8\n",
       "8  2023-01-18               3              1                6"
      ]
     },
     "execution_count": 45,
     "metadata": {},
     "output_type": "execute_result"
    }
   ],
   "source": [
    "accounts"
   ]
  },
  {
   "cell_type": "code",
   "execution_count": 74,
   "id": "c6d0d9f7-418f-48f0-979c-b112c5ca5379",
   "metadata": {
    "tags": []
   },
   "outputs": [],
   "source": [
    "temp = accounts.groupby(['project_id_acc'])['amount_of_hours'].sum().reset_index()\n",
    "project_hours = pd.merge(temp, projects, left_on='project_id_acc', right_on='project_id')[['project_name', 'amount_of_hours']]"
   ]
  },
  {
   "cell_type": "code",
   "execution_count": 75,
   "id": "a86df24d-c9c0-488d-9486-7db716127a31",
   "metadata": {
    "tags": []
   },
   "outputs": [
    {
     "data": {
      "text/html": [
       "<div>\n",
       "<style scoped>\n",
       "    .dataframe tbody tr th:only-of-type {\n",
       "        vertical-align: middle;\n",
       "    }\n",
       "\n",
       "    .dataframe tbody tr th {\n",
       "        vertical-align: top;\n",
       "    }\n",
       "\n",
       "    .dataframe thead th {\n",
       "        text-align: right;\n",
       "    }\n",
       "</style>\n",
       "<table border=\"1\" class=\"dataframe\">\n",
       "  <thead>\n",
       "    <tr style=\"text-align: right;\">\n",
       "      <th></th>\n",
       "      <th>project_name</th>\n",
       "      <th>amount_of_hours</th>\n",
       "    </tr>\n",
       "  </thead>\n",
       "  <tbody>\n",
       "    <tr>\n",
       "      <th>0</th>\n",
       "      <td>Project A</td>\n",
       "      <td>14</td>\n",
       "    </tr>\n",
       "    <tr>\n",
       "      <th>1</th>\n",
       "      <td>Project B</td>\n",
       "      <td>12</td>\n",
       "    </tr>\n",
       "    <tr>\n",
       "      <th>2</th>\n",
       "      <td>Project C</td>\n",
       "      <td>15</td>\n",
       "    </tr>\n",
       "    <tr>\n",
       "      <th>3</th>\n",
       "      <td>Project E</td>\n",
       "      <td>13</td>\n",
       "    </tr>\n",
       "    <tr>\n",
       "      <th>4</th>\n",
       "      <td>Project D</td>\n",
       "      <td>8</td>\n",
       "    </tr>\n",
       "  </tbody>\n",
       "</table>\n",
       "</div>"
      ],
      "text/plain": [
       "  project_name  amount_of_hours\n",
       "0    Project A               14\n",
       "1    Project B               12\n",
       "2    Project C               15\n",
       "3    Project E               13\n",
       "4    Project D                8"
      ]
     },
     "execution_count": 75,
     "metadata": {},
     "output_type": "execute_result"
    }
   ],
   "source": [
    "project_hours"
   ]
  },
  {
   "cell_type": "code",
   "execution_count": 76,
   "id": "bbc1a979-a2e8-47d3-82d9-04aa0d171600",
   "metadata": {
    "tags": []
   },
   "outputs": [
    {
     "data": {
      "image/png": "[encoded data removed]",
      "text/plain": [
       "<Figure size 640x480 with 1 Axes>"
      ]
     },
     "metadata": {},
     "output_type": "display_data"
    }
   ],
   "source": [
    "plt.pie(project_hours['amount_of_hours'], labels = project_hours['project_name'])\n",
    "plt.show()"
   ]
  },
  {
   "cell_type": "code",
   "execution_count": 97,
   "id": "bfda3ebf-8fc1-4519-8891-6350c39489b4",
   "metadata": {
    "tags": []
   },
   "outputs": [],
   "source": [
    "temp = pd.merge(accounts, employees, left_on='worker_id_acc', right_on='worker_id')\n",
    "employees_salarys = pd.merge(temp,projects,left_on='project_id_acc', right_on='project_id')[['worker_surname','project_name','amount_of_hours','worker_salary']]"
   ]
  },
  {
   "cell_type": "code",
   "execution_count": 98,
   "id": "3176c96c-1593-48ca-aa29-33ca6d62012a",
   "metadata": {
    "tags": []
   },
   "outputs": [
    {
     "data": {
      "text/html": [
       "<div>\n",
       "<style scoped>\n",
       "    .dataframe tbody tr th:only-of-type {\n",
       "        vertical-align: middle;\n",
       "    }\n",
       "\n",
       "    .dataframe tbody tr th {\n",
       "        vertical-align: top;\n",
       "    }\n",
       "\n",
       "    .dataframe thead th {\n",
       "        text-align: right;\n",
       "    }\n",
       "</style>\n",
       "<table border=\"1\" class=\"dataframe\">\n",
       "  <thead>\n",
       "    <tr style=\"text-align: right;\">\n",
       "      <th></th>\n",
       "      <th>worker_surname</th>\n",
       "      <th>project_name</th>\n",
       "      <th>amount_of_hours</th>\n",
       "      <th>worker_salary</th>\n",
       "    </tr>\n",
       "  </thead>\n",
       "  <tbody>\n",
       "    <tr>\n",
       "      <th>0</th>\n",
       "      <td>Johnson</td>\n",
       "      <td>Project A</td>\n",
       "      <td>8</td>\n",
       "      <td>22</td>\n",
       "    </tr>\n",
       "    <tr>\n",
       "      <th>1</th>\n",
       "      <td>Williams</td>\n",
       "      <td>Project A</td>\n",
       "      <td>6</td>\n",
       "      <td>25</td>\n",
       "    </tr>\n",
       "    <tr>\n",
       "      <th>2</th>\n",
       "      <td>Johnson</td>\n",
       "      <td>Project E</td>\n",
       "      <td>7</td>\n",
       "      <td>22</td>\n",
       "    </tr>\n",
       "    <tr>\n",
       "      <th>3</th>\n",
       "      <td>Jones</td>\n",
       "      <td>Project E</td>\n",
       "      <td>6</td>\n",
       "      <td>18</td>\n",
       "    </tr>\n",
       "    <tr>\n",
       "      <th>4</th>\n",
       "      <td>Williams</td>\n",
       "      <td>Project B</td>\n",
       "      <td>5</td>\n",
       "      <td>25</td>\n",
       "    </tr>\n",
       "    <tr>\n",
       "      <th>5</th>\n",
       "      <td>Jones</td>\n",
       "      <td>Project B</td>\n",
       "      <td>7</td>\n",
       "      <td>18</td>\n",
       "    </tr>\n",
       "    <tr>\n",
       "      <th>6</th>\n",
       "      <td>Smith</td>\n",
       "      <td>Project C</td>\n",
       "      <td>9</td>\n",
       "      <td>20</td>\n",
       "    </tr>\n",
       "    <tr>\n",
       "      <th>7</th>\n",
       "      <td>Smith</td>\n",
       "      <td>Project C</td>\n",
       "      <td>6</td>\n",
       "      <td>20</td>\n",
       "    </tr>\n",
       "    <tr>\n",
       "      <th>8</th>\n",
       "      <td>Brown</td>\n",
       "      <td>Project D</td>\n",
       "      <td>8</td>\n",
       "      <td>21</td>\n",
       "    </tr>\n",
       "  </tbody>\n",
       "</table>\n",
       "</div>"
      ],
      "text/plain": [
       "  worker_surname project_name  amount_of_hours  worker_salary\n",
       "0        Johnson    Project A                8             22\n",
       "1       Williams    Project A                6             25\n",
       "2        Johnson    Project E                7             22\n",
       "3          Jones    Project E                6             18\n",
       "4       Williams    Project B                5             25\n",
       "5          Jones    Project B                7             18\n",
       "6          Smith    Project C                9             20\n",
       "7          Smith    Project C                6             20\n",
       "8          Brown    Project D                8             21"
      ]
     },
     "execution_count": 98,
     "metadata": {},
     "output_type": "execute_result"
    }
   ],
   "source": [
    "employees_salarys"
   ]
  },
  {
   "cell_type": "code",
   "execution_count": 113,
   "id": "f7bc0b62-6f81-4ccc-b794-4af3e0e5ae3f",
   "metadata": {
    "tags": []
   },
   "outputs": [],
   "source": [
    "target_surname = 'Johnson'\n",
    "\n",
    "filtered_df = employees_salarys[employees_salarys['worker_surname'] == target_surname]\n",
    "\n",
    "temp = filtered_df.groupby('project_name').agg({'amount_of_hours': 'sum', 'worker_salary': 'sum'}).reset_index()\n",
    "temp['emp_salary'] = temp['amount_of_hours'] * temp['worker_salary']\n",
    "\n",
    "result = temp[['project_name','emp_salary']]"
   ]
  },
  {
   "cell_type": "code",
   "execution_count": 114,
   "id": "4464d13b-e4f1-407d-9010-2e4b75524369",
   "metadata": {
    "tags": []
   },
   "outputs": [
    {
     "data": {
      "text/html": [
       "<div>\n",
       "<style scoped>\n",
       "    .dataframe tbody tr th:only-of-type {\n",
       "        vertical-align: middle;\n",
       "    }\n",
       "\n",
       "    .dataframe tbody tr th {\n",
       "        vertical-align: top;\n",
       "    }\n",
       "\n",
       "    .dataframe thead th {\n",
       "        text-align: right;\n",
       "    }\n",
       "</style>\n",
       "<table border=\"1\" class=\"dataframe\">\n",
       "  <thead>\n",
       "    <tr style=\"text-align: right;\">\n",
       "      <th></th>\n",
       "      <th>project_name</th>\n",
       "      <th>emp_salary</th>\n",
       "    </tr>\n",
       "  </thead>\n",
       "  <tbody>\n",
       "    <tr>\n",
       "      <th>0</th>\n",
       "      <td>Project A</td>\n",
       "      <td>176</td>\n",
       "    </tr>\n",
       "    <tr>\n",
       "      <th>1</th>\n",
       "      <td>Project E</td>\n",
       "      <td>154</td>\n",
       "    </tr>\n",
       "  </tbody>\n",
       "</table>\n",
       "</div>"
      ],
      "text/plain": [
       "  project_name  emp_salary\n",
       "0    Project A         176\n",
       "1    Project E         154"
      ]
     },
     "execution_count": 114,
     "metadata": {},
     "output_type": "execute_result"
    }
   ],
   "source": [
    "result"
   ]
  },
  {
   "cell_type": "code",
   "execution_count": 139,
   "id": "8f3f097c-a49d-4a2c-ab6b-fa31899f9632",
   "metadata": {
    "tags": []
   },
   "outputs": [],
   "source": [
    "max_hours_projects = filtered_df.groupby('project_name')['amount_of_hours'].sum().idxmax()"
   ]
  },
  {
   "cell_type": "code",
   "execution_count": 140,
   "id": "e9f5c63a-af85-4384-9e19-76630ff4eac4",
   "metadata": {
    "tags": []
   },
   "outputs": [
    {
     "data": {
      "text/plain": [
       "'Project A'"
      ]
     },
     "execution_count": 140,
     "metadata": {},
     "output_type": "execute_result"
    }
   ],
   "source": [
    "max_hours_projects"
   ]
  }
 ],
 "metadata": {
  "kernelspec": {
   "display_name": "Python 3 (ipykernel)",
   "language": "python",
   "name": "python3"
  },
  "language_info": {
   "codemirror_mode": {
    "name": "ipython",
    "version": 3
   },
   "file_extension": ".py",
   "mimetype": "text/x-python",
   "name": "python",
   "nbconvert_exporter": "python",
   "pygments_lexer": "ipython3",
   "version": "3.11.4"
  }
 },
 "nbformat": 4,
 "nbformat_minor": 5
}
