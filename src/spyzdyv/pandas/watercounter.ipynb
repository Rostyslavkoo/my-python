{
 "cells": [
  {
   "cell_type": "code",
   "execution_count": 9,
   "id": "3250ed68-36b8-46f2-bada-84d6009fffe9",
   "metadata": {
    "tags": []
   },
   "outputs": [
    {
     "name": "stdout",
     "output_type": "stream",
     "text": [
      "Помилка: Є випадки, де поточний показник менший попереднього.\n",
      "  apartment_number month_number current_reading previous_reading\n",
      "5              102            3             150              180\n",
      "6              103            3              50               60\n"
     ]
    },
    {
     "data": {
      "text/html": [
       "<div>\n",
       "<style scoped>\n",
       "    .dataframe tbody tr th:only-of-type {\n",
       "        vertical-align: middle;\n",
       "    }\n",
       "\n",
       "    .dataframe tbody tr th {\n",
       "        vertical-align: top;\n",
       "    }\n",
       "\n",
       "    .dataframe thead th {\n",
       "        text-align: right;\n",
       "    }\n",
       "</style>\n",
       "<table border=\"1\" class=\"dataframe\">\n",
       "  <thead>\n",
       "    <tr style=\"text-align: right;\">\n",
       "      <th></th>\n",
       "      <th>apartment_number</th>\n",
       "      <th>month_number</th>\n",
       "      <th>current_reading</th>\n",
       "      <th>previous_reading</th>\n",
       "    </tr>\n",
       "  </thead>\n",
       "  <tbody>\n",
       "    <tr>\n",
       "      <th>4</th>\n",
       "      <td>101</td>\n",
       "      <td>3</td>\n",
       "      <td>300</td>\n",
       "      <td>250</td>\n",
       "    </tr>\n",
       "    <tr>\n",
       "      <th>5</th>\n",
       "      <td>102</td>\n",
       "      <td>3</td>\n",
       "      <td>150</td>\n",
       "      <td>180</td>\n",
       "    </tr>\n",
       "    <tr>\n",
       "      <th>6</th>\n",
       "      <td>103</td>\n",
       "      <td>3</td>\n",
       "      <td>50</td>\n",
       "      <td>60</td>\n",
       "    </tr>\n",
       "  </tbody>\n",
       "</table>\n",
       "</div>"
      ],
      "text/plain": [
       "  apartment_number month_number current_reading previous_reading\n",
       "4              101            3             300              250\n",
       "5              102            3             150              180\n",
       "6              103            3              50               60"
      ]
     },
     "execution_count": 9,
     "metadata": {},
     "output_type": "execute_result"
    }
   ],
   "source": [
    "import pandas as pd\n",
    "\n",
    "class WaterCounter:\n",
    "    def __init__(self, apartment_number, month_number, current_reading, previous_reading):\n",
    "        self.apartment_number = apartment_number\n",
    "        self.month_number = month_number\n",
    "        self.current_reading = current_reading\n",
    "        self.previous_reading = previous_reading\n",
    "\n",
    "# Список імен файлів\n",
    "file_names = ['file1.csv', 'file2.csv',]\n",
    "\n",
    "# Створюємо порожню таблицю\n",
    "df = pd.DataFrame(columns=['apartment_number', 'month_number', 'current_reading', 'previous_reading'])\n",
    "\n",
    "# Зчитуємо файли та об'єднуємо їх\n",
    "for file_name in file_names:\n",
    "    data = pd.read_csv(file_name)\n",
    "    df = pd.concat([df, data], ignore_index=True)\n",
    "\n",
    "# Перевіряємо, чи є відомі випадки, де поточний показник менший попереднього\n",
    "invalid_rows = df[df['current_reading'] < df['previous_reading']]\n",
    "if not invalid_rows.empty:\n",
    "    print(\"Помилка: Є випадки, де поточний показник менший попереднього.\")\n",
    "    print(invalid_rows)\n",
    "else:\n",
    "    print(\"Умова виконана. Немає випадків, де поточний показник менший попереднього.\")\n",
    "\n",
    "# Для конкретного місяця табличка з даними про використану воду кожною квартирою\n",
    "# Наприклад, для місяця 3\n",
    "month_3_data = df[df['month_number'] == 3]\n",
    "month_3_data\n"
   ]
  },
  {
   "cell_type": "code",
   "execution_count": null,
   "id": "37c9e153-599b-461a-bb56-ec1087d484c6",
   "metadata": {},
   "outputs": [],
   "source": []
  }
 ],
 "metadata": {
  "kernelspec": {
   "display_name": "Python 3 (ipykernel)",
   "language": "python",
   "name": "python3"
  },
  "language_info": {
   "codemirror_mode": {
    "name": "ipython",
    "version": 3
   },
   "file_extension": ".py",
   "mimetype": "text/x-python",
   "name": "python",
   "nbconvert_exporter": "python",
   "pygments_lexer": "ipython3",
   "version": "3.11.4"
  }
 },
 "nbformat": 4,
 "nbformat_minor": 5
}
