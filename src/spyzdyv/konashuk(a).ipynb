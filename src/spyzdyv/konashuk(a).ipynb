{
 "cells": [
  {
   "cell_type": "code",
   "execution_count": 5,
   "id": "dc298d89-90d0-4f2f-b1a0-c96fef762c64",
   "metadata": {
    "tags": []
   },
   "outputs": [
    {
     "name": "stdout",
     "output_type": "stream",
     "text": [
      "{'101': 1, '102': 2}\n"
     ]
    }
   ],
   "source": [
    "import csv\n",
    "\n",
    "class Visitor:\n",
    "    def __init__(self, surname, id_number, some_of_money):\n",
    "        self._surname = surname\n",
    "        self._id_number = id_number\n",
    "        self._some_of_money = some_of_money\n",
    "\n",
    "    @property\n",
    "    def surname(self):\n",
    "        return self._surname\n",
    "\n",
    "    @property\n",
    "    def id_number(self):\n",
    "        return self._id_number\n",
    "\n",
    "    @property\n",
    "    def some_of_money(self):\n",
    "        return self._some_of_money\n",
    "\n",
    "class TrainingType:\n",
    "    def __init__(self, name, id_number, cost_per_session):\n",
    "        self._name = name\n",
    "        self._id_number = id_number\n",
    "        self._cost_per_session = cost_per_session\n",
    "\n",
    "    @property\n",
    "    def name(self):\n",
    "        return self._name\n",
    "\n",
    "    @property\n",
    "    def id_number(self):\n",
    "        return self._id_number\n",
    "\n",
    "    @property\n",
    "    def cost_per_session(self):\n",
    "        return self._cost_per_session\n",
    "\n",
    "class TrainingInfo:\n",
    "    def __init__(self, date, visitor_id, training_type_id):\n",
    "        self._date = date\n",
    "        self._visitor_id = visitor_id\n",
    "        self._training_type_id = training_type_id\n",
    "\n",
    "    @property\n",
    "    def date(self):\n",
    "        return self._date\n",
    "\n",
    "    @property\n",
    "    def visitor_id(self):\n",
    "        return self._visitor_id\n",
    "\n",
    "    @property\n",
    "    def training_type_id(self):\n",
    "        return self._training_type_id\n",
    "\n",
    "def read_csv(file_path, class_type):\n",
    "    data_list = []\n",
    "    with open(file_path, 'r') as file:\n",
    "        reader = csv.reader(file)\n",
    "        next(reader)\n",
    "        for row in reader:\n",
    "            data_list.append(class_type(*row))\n",
    "    return data_list\n",
    "\n",
    "visitors = read_csv('visitors.csv', Visitor)\n",
    "training_types = read_csv('training_types.csv', TrainingType)\n",
    "training_info = read_csv('training_info.csv', TrainingInfo)\n",
    "\n",
    "#к-сть тренувань для кожного виду \n",
    "training_count_per_type = {}\n",
    "for info in training_info:\n",
    "    training_type_id = info.training_type_id\n",
    "    if training_type_id not in training_count_per_type:\n",
    "        training_count_per_type[training_type_id] = 1\n",
    "    else:\n",
    "        training_count_per_type[training_type_id] += 1\n",
    "        \n",
    "print(training_count_per_type)\n"
   ]
  },
  {
   "cell_type": "code",
   "execution_count": null,
   "id": "f9503f26-3eb4-4a43-b8bd-c4687ef80530",
   "metadata": {},
   "outputs": [],
   "source": []
  }
 ],
 "metadata": {
  "kernelspec": {
   "display_name": "Python 3 (ipykernel)",
   "language": "python",
   "name": "python3"
  },
  "language_info": {
   "codemirror_mode": {
    "name": "ipython",
    "version": 3
   },
   "file_extension": ".py",
   "mimetype": "text/x-python",
   "name": "python",
   "nbconvert_exporter": "python",
   "pygments_lexer": "ipython3",
   "version": "3.11.4"
  }
 },
 "nbformat": 4,
 "nbformat_minor": 5
}
